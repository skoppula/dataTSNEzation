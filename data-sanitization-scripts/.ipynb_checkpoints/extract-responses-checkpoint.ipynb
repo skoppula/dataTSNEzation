{
 "cells": [
  {
   "cell_type": "markdown",
   "metadata": {},
   "source": [
    "To distinguish Pam's and Skanda's save paths"
   ]
  },
  {
   "cell_type": "code",
   "execution_count": 568,
   "metadata": {
    "collapsed": false
   },
   "outputs": [],
   "source": [
    "import getpass\n",
    "\n",
    "if getpass.getuser() == 'skoppula':\n",
    "    data_base_path = '/home/skoppula/mit/codeforgood/data/'\n",
    "elif getpass.getuser() == 'pamelawang':\n",
    "    data_base_path = '/Users/pamelawang/Documents/MIT/IAP/CodeForGood/data/'"
   ]
  },
  {
   "cell_type": "markdown",
   "metadata": {},
   "source": [
    "Read in data: the survey question topics/question IDs"
   ]
  },
  {
   "cell_type": "code",
   "execution_count": 569,
   "metadata": {
    "collapsed": false
   },
   "outputs": [],
   "source": [
    "with open(data_base_path + 'survey-questions.tsv') as f:\n",
    "    lines = f.readlines()\n",
    "\n",
    "# Strip the top headers\n",
    "lines = lines[5:]\n",
    "question_topics = {}\n",
    "def return_question_tuple(line):\n",
    "    parts = line.split('\\t')\n",
    "    qid = int(parts[2])\n",
    "    question = parts[3].strip()\n",
    "    topic = parts[1]\n",
    "    category = parts[0]\n",
    "    if category.startswith('Scorecard I:'):\n",
    "        category = 'Organization Profile'\n",
    "    elif category.startswith('Scorecard II:'):\n",
    "        category = 'Leadership Profile'\n",
    "    elif category.startswith('Scorecard III:'):\n",
    "        category = 'Managerial Transitions'\n",
    "    elif category.startswith('Scorecard IV:'):\n",
    "        category = 'Board-Leader Dynamic'\n",
    "    elif category.startswith('Scorecard V:'):\n",
    "        category = 'Miscellaneous'\n",
    "\n",
    "    return (qid,question,topic,category)\n",
    "\n",
    "for line in lines:\n",
    "    (qid,question,topic,category) = return_question_tuple(line)\n",
    "    if qid not in question_topics:\n",
    "        question_topics[qid] = (topic,category)\n",
    "    else:\n",
    "        # print 'Collision! ' + str(qid) + ' ' + str((question,topic,category)) + ' ' + str(questions[qid])\n",
    "        pass"
   ]
  },
  {
   "cell_type": "markdown",
   "metadata": {},
   "source": [
    "Read in data: the survey responses"
   ]
  },
  {
   "cell_type": "code",
   "execution_count": 570,
   "metadata": {
    "collapsed": false
   },
   "outputs": [],
   "source": [
    "def delete_question(index, questions):\n",
    "    del questions[index]\n",
    "    \n",
    "with open(data_base_path + 'responses.tsv') as f:\n",
    "    lines = f.readlines()\n",
    "    \n",
    "raw = [[part.strip() for part in line.split('\\t')] for line in lines]\n",
    "\n",
    "original_questions = [(int(line[3]),line[4]) for line in raw[1:]]\n",
    "questions = [(int(line[3]),line[4]) for line in raw[1:]]\n",
    "    \n",
    "# Convert raw cells to response dictionary\n",
    "# One entry per surveyed person\n",
    "responses = dict()\n",
    "for i in range(5,len(raw[0])):\n",
    "    responses[raw[0][i]] = []\n",
    "    for line in raw[1:]:\n",
    "        responses[raw[0][i]].append(line[i])\n",
    "        \n",
    "list_of_fields = dict()\n",
    "# 'pid':[number] in final JSON file"
   ]
  },
  {
   "cell_type": "markdown",
   "metadata": {},
   "source": [
    "Helper functions"
   ]
  },
  {
   "cell_type": "code",
   "execution_count": 571,
   "metadata": {
    "collapsed": false
   },
   "outputs": [],
   "source": [
    "def uniq_ans(question_index, responses):\n",
    "    if type(responses.values()[0][question_index]) is list:\n",
    "        poss_responses = set()\n",
    "        for response in responses.values():\n",
    "            poss_responses = poss_responses.union(set(response[question_index]))\n",
    "        return True, list(poss_responses)\n",
    "    else:\n",
    "        return False, list(set([str(response[question_index]) for response in responses.values()]))\n",
    "\n",
    "    \n",
    "def get_qindices_exact(query, questions):\n",
    "    return [(i,a) for i,a in enumerate(questions) if query == a[1]]\n",
    "\n",
    "\n",
    "def get_qindices(query, questions):\n",
    "    return [(i,a) for i,a in enumerate(questions) if query in a[1]]\n",
    "\n",
    "\n",
    "def check_sizes():\n",
    "    return len(set(list_of_fields.keys())) == len(list_of_fields.values()) and \\\n",
    "            len(questions) == len(responses[responses.keys()[0]])"
   ]
  },
  {
   "cell_type": "markdown",
   "metadata": {},
   "source": [
    "Export to JSON helper functions (for D3 visualization)"
   ]
  },
  {
   "cell_type": "code",
   "execution_count": 572,
   "metadata": {
    "collapsed": false
   },
   "outputs": [],
   "source": [
    "import json\n",
    "\n",
    "hardcoded_order = {\n",
    "    2: ['18-24', '25-34', '35-44', '45-54', '55-64', '65 or Above', 'Prefer Not to Answer'],\n",
    "    5: ['Bachelors', 'High School', \"MBA/Management Master's\", \"Other Master's Degree\", 'PhD, JD, or other advanced degree', 'None of the above'],\n",
    "    6: ['Less than $50,000', '$50,000 - $99,999', '$100,000 - $149,999', '$150,000 - $199,999', '$200,000 - $249,999', '$250,000 and over','No response'],\n",
    "    11: ['Less than $250,000', '$250,000 - $999,999', '$1,000,000 - $2,499,999', '$2,500,000 - $9,999,999', '$10,000,000 - $24,999,999','$25,000,000 and over'],\n",
    "    12: ['0','1-5','6-10','11-15','16-20','21-25','26-30','31-35','36-40','41-45','46-50','51+','No response'],\n",
    "    13: ['0','1-5','6-10','11-15','16-20','21-25','26-30','31-35','36-40','41-45','46-50','51+','No response'],\n",
    "    14: ['0', '1-10','11-21','21-30','31-40','41-51','51-100','101-250','251-500','500+','No response'],\n",
    "    16: ['None','One month or less','Two to three months','Four to six months','Seven to nine months','Ten months to a year','Over a year','No response'],\n",
    "    17: ['Less than 1 Year', '1-2 Years','10-19 years','20+ Years','3-5 years','6-9 years'],\n",
    "    18: range(1,51) + ['50+','No response'],\n",
    "    24: ['0-2 hours','3-5 hours','5-8 hours','8-10 hours','10+ hours','20-30 hours','30-40 hours','40-50 hours','50-60 hours','60-70 hours','70+ hours'],\n",
    "    25: ['I am very happy in my job','I have more good days than bad days','My experience is neutral/evenly mixed between bad and good','I have more bad days than good days','I  am very unhappy in my job','No response'],\n",
    "    27: ['Completely', 'Mostly', 'Somewhat', 'Slightly', 'Not at all'],\n",
    "    28: ['Completely', 'Mostly', 'Somewhat', 'Slightly', 'Not at all'],\n",
    "    29: ['Completely', 'Mostly', 'Somewhat', 'Slightly', 'Not at all']\n",
    "    \n",
    "}\n",
    "\n",
    "def create_persons_list(responses, lst_fields):\n",
    "    persons = []\n",
    "    for pid, response in responses.iteritems():\n",
    "        person_dict = {}\n",
    "        person_dict['pid'] = pid\n",
    "        for i,field in lst_fields.iteritems():\n",
    "            person_dict[field] = response[i]\n",
    "        persons.append(person_dict)\n",
    "    return persons\n",
    "        \n",
    "def create_questions_dict(questions, lst_fields):\n",
    "    questions_dict = {}\n",
    "    for i, field in lst_fields.iteritems():\n",
    "        try:\n",
    "            qid, question = questions[i]\n",
    "        except ValueError:\n",
    "            print questions[i]\n",
    "            raise ValueError\n",
    "        multiple, options = False, hardcoded_order[i] if i in hardcoded_order else uniq_ans(i, responses)\n",
    "        if qid in question_topics:\n",
    "            topic = question_topics[qid][0]\n",
    "            category = question_topics[qid][1]\n",
    "        else:\n",
    "            topic, category = '', ''\n",
    "        questions_dict[field] = [qid, question, topic, category, multiple, options]\n",
    "    return questions_dict\n",
    "\n",
    "def write_as_json(persons_list, questions_dict, persons_filepath, questions_filepath):\n",
    "    persons_json = json.dumps(persons_list, sort_keys=True, indent=4, separators=(',', ': '))\n",
    "    questions_json = json.dumps(questions_dict, sort_keys=True, indent=4, separators=(',', ': '))\n",
    "    with open(persons_filepath, 'w') as f:\n",
    "        f.write(persons_json)\n",
    "    with open(questions_filepath, 'w') as f:\n",
    "        f.write(questions_json)\n",
    "    print 'Wrote to', persons_filepath,'!'\n",
    "    print 'Wrote to', questions_filepath,'!'\n",
    "\n",
    "def execute_json_write(questions, responses, list_of_fields):\n",
    "    final_persons_list = create_persons_list(responses, list_of_fields)\n",
    "    final_questions_dict = create_questions_dict(questions, list_of_fields)\n",
    "    persons_filepath = data_base_path + 'persons.json'\n",
    "    questions_filepath = data_base_path + 'questions.json'\n",
    "    write_as_json(final_persons_list, final_questions_dict, persons_filepath, questions_filepath)"
   ]
  },
  {
   "cell_type": "markdown",
   "metadata": {},
   "source": [
    "Question 0: `job_category`\n",
    "\n",
    "1. Board member\n",
    "2. Organization leader"
   ]
  },
  {
   "cell_type": "code",
   "execution_count": 573,
   "metadata": {
    "collapsed": false
   },
   "outputs": [],
   "source": [
    "def categorize_job_category(line):\n",
    "    line = line.lower()\n",
    "    if 'board member' in line:\n",
    "        return 'Board member'\n",
    "    else:\n",
    "        return 'Organization leader'"
   ]
  },
  {
   "cell_type": "code",
   "execution_count": 574,
   "metadata": {
    "collapsed": false
   },
   "outputs": [],
   "source": [
    "for pid, response in responses.iteritems():\n",
    "    response[0] = categorize_job_category(response[0])\n",
    "    responses[pid] = response\n",
    "\n",
    "list_of_fields[0] = 'job_category'"
   ]
  },
  {
   "cell_type": "markdown",
   "metadata": {},
   "source": [
    "Question 1: `job_title`\n",
    "\n",
    "A possibly empty list with one or more of the following:\n",
    "\n",
    "1. Pastor\n",
    "2. Director\n",
    "3. Founder\n",
    "4. CEO\n",
    "5. CFO\n",
    "6. Board Chairman\n",
    "7. Chief Development Officer\n",
    "8. President\n",
    "9. Consultant\n",
    "10. Manager"
   ]
  },
  {
   "cell_type": "code",
   "execution_count": 575,
   "metadata": {
    "collapsed": false
   },
   "outputs": [],
   "source": [
    "def categorize_job_titles(line1, line2):\n",
    "    line = line1 + ' ' + line2\n",
    "    line = line.lower()\n",
    "    out = []\n",
    "    if line == '': return ['']\n",
    "    if 'Member of leadership team' in line:\n",
    "        return ['Part of a leadership team']\n",
    "\n",
    "    bp = True\n",
    "    if 'pastor' in line:\n",
    "        out.append('Pastor')\n",
    "    if 'director' in line:\n",
    "        out.append('Director')\n",
    "    if 'founder' in line:\n",
    "        out.append('Founder')\n",
    "    if 'ceo' in line or 'chief executive office' in line:\n",
    "        out.append('CEO')\n",
    "    if 'board president' in line or 'president of the board' in line:\n",
    "        bp = False\n",
    "        out.append('Board President')\n",
    "    if 'cfo' in line:\n",
    "        out.append('CFO')\n",
    "    if 'chair' in line:\n",
    "        out.append('Board Chairman')\n",
    "    if 'Chief Development Officer' in line:\n",
    "        out.append('Chief Development Officer')\n",
    "    if 'president' in line and bp:\n",
    "        out.append('President')\n",
    "    if 'consultant' in line:\n",
    "        out.append('Consultant')\n",
    "    if 'manager' in line:\n",
    "        out.append('Manager')\n",
    "\n",
    "    return out"
   ]
  },
  {
   "cell_type": "code",
   "execution_count": 576,
   "metadata": {
    "collapsed": false
   },
   "outputs": [],
   "source": [
    "for pid, response in responses.iteritems():\n",
    "    response[1] = categorize_job_titles(response[1], response[2])\n",
    "    del response[2]\n",
    "    responses[pid] = response\n",
    "    \n",
    "del questions[2]\n",
    "list_of_fields[1] = 'job_title'"
   ]
  },
  {
   "cell_type": "markdown",
   "metadata": {},
   "source": [
    "Question 2: `age`\n",
    "\n",
    "1. 18-24\n",
    "2. 25-34\n",
    "3. 35-44\n",
    "4. 45-54\n",
    "5. 55-64\n",
    "6. 65 or Above\n",
    "7. Prefer Not to Answer"
   ]
  },
  {
   "cell_type": "code",
   "execution_count": 577,
   "metadata": {
    "collapsed": false
   },
   "outputs": [],
   "source": [
    "def get_age(line1, line2):\n",
    "    assert (line1 == line2) or (line1 and not line2) or (line2 and not line1)\n",
    "    if line1:\n",
    "        return line1\n",
    "    else:\n",
    "        return line2"
   ]
  },
  {
   "cell_type": "code",
   "execution_count": 578,
   "metadata": {
    "collapsed": false
   },
   "outputs": [],
   "source": [
    "# get_qindices(\"your age\", questions): 2 and 378\n",
    "\n",
    "for pid, response in responses.iteritems():\n",
    "    response[2] = get_age(response[2], response[378])\n",
    "    del response[378]\n",
    "    responses[pid] = response\n",
    "    \n",
    "del questions[378]\n",
    "list_of_fields[2] = 'age'"
   ]
  },
  {
   "cell_type": "markdown",
   "metadata": {},
   "source": [
    "Question 3: `race`\n",
    "\n",
    "1. American Indian or Alaskan Native  \n",
    "2. Asian  \n",
    "3. Black or African American  \n",
    "4. Hispanic or Latino/Latina  \n",
    "5. Native Hawaiian or other Pacific Islander  \n",
    "6. White  \n",
    "7. Decline to state \n",
    "8. Mix\n",
    "9. Other"
   ]
  },
  {
   "cell_type": "code",
   "execution_count": 579,
   "metadata": {
    "collapsed": false
   },
   "outputs": [],
   "source": [
    "# def interpret_typed_race(text):\n",
    "#   if 'mix' in text:\n",
    "#       race = 'Mix'\n",
    "#   if 'asian' in text:\n",
    "#       race = 'Asian'\n",
    "#   elif 'jew' in text or 'white' in text or 'euro' in text or 'azorean' in text:\n",
    "#       race = 'White'\n",
    "#   elif 'hesitate' in text:\n",
    "#       race = 'Decline to state'\n",
    "#   return 'Other'\n",
    "\n",
    "def get_race(lines1, lines2):\n",
    "    conversion = {0:'American Indian or Alaskan Native', 1:'Asian', 2:'Black or African American', \n",
    "                  3:'Hispanic or Latino/Latina', 4:'Native Hawaiian or other Pacific Islander',\n",
    "                  5:'White', 6:'Decline to state'} # Must be same order as in survey\n",
    "    \n",
    "    lines = lines1 if '1' in lines1 else lines2\n",
    "\n",
    "    try:\n",
    "        index = lines.index('1')  # Remember only works if there is no '1' in the 'Other' text field\n",
    "        if index in conversion:\n",
    "            race = conversion[index]\n",
    "        elif index is len(conversion):\n",
    "            # race = interpret_typed_race(lines[-1].lower())\n",
    "            race = 'Other'\n",
    "            \n",
    "    except ValueError:\n",
    "        return ''\n",
    "    \n",
    "    return race"
   ]
  },
  {
   "cell_type": "code",
   "execution_count": 580,
   "metadata": {
    "collapsed": false
   },
   "outputs": [],
   "source": [
    "for pid, response in responses.iteritems():\n",
    "    response[3] = get_race(response[3:12], response[378:387])\n",
    "    del response[4:12]\n",
    "    del response[370:379]\n",
    "    responses[pid] = response\n",
    "    \n",
    "questions[3] = (3, 'What is your race/ethnicity?')\n",
    "del questions[4:12]\n",
    "del questions[370:379]\n",
    "list_of_fields[3] = 'race'"
   ]
  },
  {
   "cell_type": "markdown",
   "metadata": {},
   "source": [
    "Question 4: `gender`\n",
    "\n",
    "1. Female/Woman\n",
    "2. Male/Man\n",
    "3. Transgender\n",
    "4. Decline to state\n",
    "5. Other"
   ]
  },
  {
   "cell_type": "code",
   "execution_count": 581,
   "metadata": {
    "collapsed": false
   },
   "outputs": [],
   "source": [
    "def get_gender(lines1, lines2):\n",
    "    conversion = {0:'Female/Woman', 1:'Male/Man', 2:'Transgender', 3:'Decline to state'} # Must be same order as in survey\n",
    "    \n",
    "    lines = lines1 if '1' in lines1 else lines2\n",
    "\n",
    "    try:\n",
    "        index = lines.index('1') # Remember only works if there is no '1' in the 'Other' text field\n",
    "        if index in conversion:\n",
    "            race = conversion[index]\n",
    "        elif index is len(conversion):\n",
    "            race = 'Other'\n",
    "            \n",
    "    except ValueError:\n",
    "        return ''\n",
    "    \n",
    "    return race"
   ]
  },
  {
   "cell_type": "code",
   "execution_count": 582,
   "metadata": {
    "collapsed": false
   },
   "outputs": [],
   "source": [
    "for pid, response in responses.iteritems():\n",
    "    response[4] = get_gender(response[4:10], response[370:376])\n",
    "    del response[5:10]\n",
    "    del response[365:371]\n",
    "    responses[pid] = response\n",
    "    \n",
    "questions[4] = (4, 'What is your gender?')\n",
    "del questions[5:10]\n",
    "del questions[365:371]\n",
    "list_of_fields[4] = 'gender'"
   ]
  },
  {
   "cell_type": "markdown",
   "metadata": {},
   "source": [
    "Question 5: `highest_education`\n",
    "\n",
    "1. High School\n",
    "2. Bachelors\n",
    "3. Masters\n",
    "4. MBA/Nonprofit Management Masters\n",
    "5. PhD, JD, or other advanced degree\n",
    "6. No response"
   ]
  },
  {
   "cell_type": "code",
   "execution_count": 583,
   "metadata": {
    "collapsed": false
   },
   "outputs": [],
   "source": [
    "def get_education(text1, text2):\n",
    "    assert text1 == '' or text2 == '' or text1 == text2\n",
    "    text = text1 if len(text1) > len(text2) else text2\n",
    "    \n",
    "    if not text: return 'No response'\n",
    "    if 'MBA' in text: return \"MBA/Management Master's\"\n",
    "    elif 'Master' in text: return \"Other Master's Degree\"\n",
    "    elif 'PhD' in text: return \"PhD, JD, or other advanced degree\"\n",
    "    else: return text"
   ]
  },
  {
   "cell_type": "code",
   "execution_count": 584,
   "metadata": {
    "collapsed": false
   },
   "outputs": [],
   "source": [
    "for pid, response in responses.iteritems():\n",
    "    response[5] = get_education(response[5], response[365])\n",
    "    del response[365]\n",
    "    responses[pid] = response\n",
    "    \n",
    "del questions[365]\n",
    "list_of_fields[5] = 'highest_education'"
   ]
  },
  {
   "cell_type": "markdown",
   "metadata": {},
   "source": [
    "Question 6: `income`\n",
    "\n",
    "1. Less than \\$50,000  \n",
    "2. \\$50,000 - \\$99,999  \n",
    "3. \\$100,000 - \\$149,999  \n",
    "4. \\$150,000 - \\$199,999  \n",
    "5. \\$200,000 - \\$249,999  \n",
    "6. $250,000 and over\n",
    "7. No response\n"
   ]
  },
  {
   "cell_type": "code",
   "execution_count": 585,
   "metadata": {
    "collapsed": false
   },
   "outputs": [],
   "source": [
    "def get_income(text1, text2): \n",
    "    text = text1 if len(text1) > len(text2) else text2\n",
    "    if text == '':\n",
    "        return 'No response'\n",
    "    elif 'Up to $49,999' in text:\n",
    "        return 'Less than $50,000'\n",
    "    else:\n",
    "        return text"
   ]
  },
  {
   "cell_type": "code",
   "execution_count": 586,
   "metadata": {
    "collapsed": false
   },
   "outputs": [],
   "source": [
    "for pid, response in responses.iteritems():\n",
    "    response[6] = get_income(response[6], response[365])\n",
    "    del response[365]\n",
    "    responses[pid] = response\n",
    "\n",
    "questions[6] = (7, 'What is your annual income?')\n",
    "del questions[365]\n",
    "list_of_fields[6] = 'income'"
   ]
  },
  {
   "cell_type": "markdown",
   "metadata": {},
   "source": [
    "Question 7: `zip_code`  \n",
    "Question 8: `city`  \n",
    "Question 9: `state`  "
   ]
  },
  {
   "cell_type": "code",
   "execution_count": 587,
   "metadata": {
    "collapsed": false
   },
   "outputs": [],
   "source": [
    "import BeautifulSoup\n",
    "import requests\n",
    "import os\n",
    "import warnings\n",
    "\n",
    "warnings.filterwarnings(\"ignore\")\n",
    "\n",
    "def u2a(ustr):\n",
    "    return ustr.encode('ascii', 'ignore')\n",
    "\n",
    "def filter_texts(text1, text2):\n",
    "    text = text1 if len(text1) > len(text2) else text2\n",
    "    text = text.strip()\n",
    "    if len(text) < 4 or len(text) > 5:\n",
    "        print text\n",
    "        return ('','','')\n",
    "    elif len(text) == 4: \n",
    "        text = '0' + text\n",
    "    return text\n",
    "\n",
    "def get_location(zip_text):\n",
    "    s = requests.Session()\n",
    "    s.headers['User-Agent'] = 'Mozilla/5.0 (Macintosh; Intel Mac OS X 10_9_2) AppleWebKit/537.36 (KHTML, like Gecko) Chrome/34.0.1847.131 Safari/537.36'\n",
    "    url = \"http://www.getzips.com/cgi-bin/ziplook.exe?What=1&Zip=%s&Submit=Look+It+Up\" % zip_text\n",
    "    r = s.get(url)\n",
    "    soup = BeautifulSoup.BeautifulSoup(r.text)\n",
    "    # print soup\n",
    "    try:\n",
    "        city_state = soup.findAll('table')[-1].findAll('td')[-3].findAll('p')[0].text\n",
    "        state = city_state.split(', ')[1]\n",
    "        city = city_state.split(', ')[0]\n",
    "    except IndexError:\n",
    "        print 'Problem:', zip_text\n",
    "        return (zip_text, 'BAD ZIPCODE', 'BAD ZIPCODE')\n",
    "        \n",
    "    return (u2a(zip_text), u2a(city), u2a(state))\n",
    "\n",
    "def create_or_populate_memo(memo_file_path, delete=False):\n",
    "    if not os.path.isfile(memo_file_path) or delete:\n",
    "        print 'Querying internet source!'\n",
    "        memo = {}\n",
    "        for pid, response in responses.iteritems():\n",
    "            zip_text = filter_texts(response[7], response[191])\n",
    "            if zip_text in memo:\n",
    "                city, state = memo[zip_text]\n",
    "            else:\n",
    "                zipcode, city, state = get_location(zip_text)\n",
    "                memo[zipcode] = (city, state)\n",
    "            print zipcode, city, state\n",
    "        with open(memo_file_path, 'w') as f:\n",
    "            f.write(json.dumps(memo, sort_keys=True, indent=4, separators=(',', ': ')))\n",
    "        return memo\n",
    "    else:\n",
    "        with open(memo_file_path, 'r') as f:\n",
    "            memo = json.loads(f.read())\n",
    "        return memo"
   ]
  },
  {
   "cell_type": "code",
   "execution_count": 588,
   "metadata": {
    "collapsed": false,
    "scrolled": false
   },
   "outputs": [],
   "source": [
    "memo_file_path = data_base_path + 'zipcode_lookup.json'\n",
    "memo = create_or_populate_memo(memo_file_path)\n",
    "\n",
    "for pid, response in responses.iteritems():\n",
    "    zc = filter_texts(response[7], response[191])\n",
    "    if zc not in memo:\n",
    "        zc, city, state = 'No response', 'No response', 'No response'\n",
    "    else:\n",
    "        city, state = memo[zc]\n",
    "        if city == 'BAD ZIPCODE':\n",
    "            zc, city, state = 'No response', 'No response', 'No response'\n",
    "    response[7] = zc\n",
    "    response.insert(8, city)\n",
    "    response.insert(9, state)\n",
    "    del response[193]\n",
    "    responses[pid] = response\n",
    "\n",
    "questions[7] = (108, \"What is your organization's zip code?\")\n",
    "questions.insert(8, (108, \"What is your organization's city?\"))\n",
    "questions.insert(9, (108, \"What is your organization's state?\"))\n",
    "del questions[193]\n",
    "\n",
    "list_of_fields[7] = 'zip_code'\n",
    "list_of_fields[8] = 'city'\n",
    "list_of_fields[9] = 'state'"
   ]
  },
  {
   "cell_type": "markdown",
   "metadata": {},
   "source": [
    "Question 10: `organization_area`\n",
    "\n",
    "A list with one or more of the following as strings:\n",
    "\n",
    "1. Animal-related\"\n",
    "2. Arts, Culture & Humanities\n",
    "3. Civil Rights, Social Action & Advocacy\n",
    "4. Community Improvement & Capacity Building\n",
    "5. Community Neighborhood Development\n",
    "6. Crime & Legal\n",
    "7. Disorders, Diseases & Medical Disciplines\n",
    "8. Education\n",
    "9. Employment\n",
    "10. Environment\n",
    "11. Food, Agriculture & Nutrition\n",
    "12. Government & Public\n",
    "13. Health Care\n",
    "14. Housing & Shelter\n",
    "15. Human Services\n",
    "16. International Affairs, Development & Policy\n",
    "17. LGBTQIA\n",
    "18. Medical Research\n",
    "19. Mental Health & Crisis Intervention\n",
    "20. Philanthropy, Foundations & Grantmaking\n",
    "21. Public Safety, Disaster & Relief\n",
    "22. Recreation & Sports\n",
    "23. Science & Technology\n",
    "24. Social Science & Research\n",
    "25. Spiritual & Religious\n",
    "26. Youth Development\n"
   ]
  },
  {
   "cell_type": "code",
   "execution_count": 589,
   "metadata": {
    "collapsed": false
   },
   "outputs": [],
   "source": [
    "def get_area(lines1, lines2):\n",
    "    conversion = {0: \"Animal-related\", 1: \"Arts, Culture & Humanities\", 2: \"Civil Rights, Social Action & Advocacy\", \n",
    "                  3: \"Community Improvement & Capacity Building\", 4: \"Community Neighborhood Development\", \n",
    "                  5: \"Crime & Legal\", 6: \"Disorders, Diseases & Medical Disciplines\", 7: \"Education\", \n",
    "                  8: \"Employment\", 9: \"Environment\", 10: \"Food, Agriculture & Nutrition\", 11: \"Government & Public\", \n",
    "                  12: \"Health Care\", 13: \"Housing & Shelter\", 14: \"Human Services\", \n",
    "                  15: \"International Affairs, Development & Policy\", 16: \"LGBTQIA\", 17: \"Medical Research\", \n",
    "                  18: \"Mental Health & Crisis Intervention\", 19: \"Philanthropy, Foundations & Grantmaking\", \n",
    "                  20: \"Public Safety, Disaster & Relief\", 21: \"Recreation & Sports\", 22: \"Science & Technology\", \n",
    "                  23: \"Social Science & Research\", 24: \"Spiritual & Religious\", 25: \"Youth Development\"} \n",
    "                  # Must be same order as in survey\n",
    "    \n",
    "    indices1 = [i for i,line in enumerate(lines1) if line == '1']\n",
    "    indices2 = [i for i,line in enumerate(lines2) if line == '1']\n",
    "    \n",
    "    areas = []\n",
    "    \n",
    "    indices = indices1 if len(indices1) > len(indices2) else indices2\n",
    "    if indices == 0: return []\n",
    "    for i in indices:\n",
    "        if i in conversion: areas.append(conversion[i])\n",
    "    \n",
    "    return areas"
   ]
  },
  {
   "cell_type": "code",
   "execution_count": 590,
   "metadata": {
    "collapsed": false
   },
   "outputs": [],
   "source": [
    "for pid, response in responses.iteritems():\n",
    "    response[10] = get_area(response[10:36], response[193:219])\n",
    "    del response[11:36]\n",
    "    del response[(193-25):(219-25)]\n",
    "    responses[pid] = response\n",
    "    \n",
    "questions[10] = (8, 'What area(s) would you describe your organization as focusing on?')\n",
    "del questions[11:36]\n",
    "del questions[(193-25):(219-25)]\n",
    "\n",
    "list_of_fields[10] = 'organization_area'"
   ]
  },
  {
   "cell_type": "markdown",
   "metadata": {},
   "source": [
    "Question 11: `annual_op_budget`\n",
    "\n",
    "1. Less than \\$250,000\n",
    "2. \\$250,000 - \\$999,999\n",
    "3. \\$1,000,000 - \\$2,499,999\n",
    "4. \\$2,500,000 - \\$9,999,999\n",
    "5. \\$10,000,000 - \\$24,999,999\n",
    "6. \\$25,000,000 and over\n",
    "7. No response"
   ]
  },
  {
   "cell_type": "code",
   "execution_count": 591,
   "metadata": {
    "collapsed": false
   },
   "outputs": [],
   "source": [
    "def get_budget(text1, text2):\n",
    "    text = text1 if text1 else text2\n",
    "    if not text:\n",
    "        return 'No response'\n",
    "    elif 'Up to $249,999' in text:\n",
    "        return 'Less than $250,000'\n",
    "    else:\n",
    "        return text"
   ]
  },
  {
   "cell_type": "code",
   "execution_count": 592,
   "metadata": {
    "collapsed": false
   },
   "outputs": [],
   "source": [
    "for pid, response in responses.iteritems():\n",
    "    response[11] = get_budget(response[11], response[168])\n",
    "    del response[168]\n",
    "    responses[pid] = response\n",
    "    \n",
    "del questions[168]\n",
    "list_of_fields[11] = 'annual_op_budget'"
   ]
  },
  {
   "cell_type": "markdown",
   "metadata": {},
   "source": [
    "Question 12: `fulltime_staff_count`  \n",
    "Question 13: `parttime_staff_count`  \n",
    " \n",
    "\n",
    "1. No response\n",
    "2. 0\n",
    "3. 1-5\n",
    "4. 6-10\n",
    "5. 11-15\n",
    "6. 16-20\n",
    "7. 21-25\n",
    "8. 26-30\n",
    "9. 31-35\n",
    "10. 36-40\n",
    "11. 41-45\n",
    "12. 46-50\n",
    "13. 51+\n",
    "\n",
    "\n"
   ]
  },
  {
   "cell_type": "code",
   "execution_count": 593,
   "metadata": {
    "collapsed": false
   },
   "outputs": [],
   "source": [
    "def get_staff_count(text):\n",
    "    if not text: return 'No response'\n",
    "    if text == '10-Jun': return '6-10'\n",
    "    if text == '15-Nov': return '11-15'\n",
    "    if text == '5-Jan': return '1-5'\n",
    "    else: return text"
   ]
  },
  {
   "cell_type": "code",
   "execution_count": 594,
   "metadata": {
    "collapsed": false
   },
   "outputs": [],
   "source": [
    "for pid, response in responses.iteritems():\n",
    "    response[12] = get_staff_count(response[12])\n",
    "    response[13] = get_staff_count(response[13])\n",
    "    responses[pid] = response\n",
    "    \n",
    "questions[12] = (10, 'How many full-time paid staff does your organization have?')\n",
    "questions[13] = (10, 'How many part-time paid staff does your organization have?')\n",
    "\n",
    "list_of_fields[12] = 'fulltime_staff_count'\n",
    "list_of_fields[13] = 'parttime_staff_count'"
   ]
  },
  {
   "cell_type": "markdown",
   "metadata": {},
   "source": [
    "Question 14: `volunteer_count` \n",
    "\n",
    "1. No response\n",
    "2. 0\n",
    "3. 1-10\n",
    "4. 11-20\n",
    "5. 21-30\n",
    "6. 31-40\n",
    "7. 41-50\n",
    "8. 51-100\n",
    "9. 101-250\n",
    "10. 251-500\n",
    "11. 501+"
   ]
  },
  {
   "cell_type": "code",
   "execution_count": 595,
   "metadata": {
    "collapsed": false
   },
   "outputs": [],
   "source": [
    "def get_volunteer_count(text):\n",
    "    if not text: return 'No response'\n",
    "    if text == '10-Jan': return '1-10'\n",
    "    if text == '100-250': return '101-250'\n",
    "    if text == '20-30': return '21-30'\n",
    "    if text == '20-Oct': return '11-21'\n",
    "    if text == '250-500': return '251-500'\n",
    "    if text == '30-40': return '31-40'\n",
    "    if text == '40-50': return '41-51'\n",
    "    if text == '50-100': return '51-100'\n",
    "    else: return text"
   ]
  },
  {
   "cell_type": "code",
   "execution_count": 596,
   "metadata": {
    "collapsed": false
   },
   "outputs": [],
   "source": [
    "for pid, response in responses.iteritems():\n",
    "    response[14] = get_volunteer_count(response[14])\n",
    "    responses[pid] = response\n",
    "    \n",
    "list_of_fields[14] = 'volunteer_count'"
   ]
  },
  {
   "cell_type": "markdown",
   "metadata": {},
   "source": [
    "Question 15: `year_founded`\n",
    "\n",
    "or 'No response'"
   ]
  },
  {
   "cell_type": "code",
   "execution_count": 597,
   "metadata": {
    "collapsed": false
   },
   "outputs": [],
   "source": [
    "def get_year(text1, text2):\n",
    "    text = text1 if len(text1) > len(text2) else text2\n",
    "    if not text or text == '0': return \"No response\"\n",
    "    if text == '1074': return '1974'\n",
    "    if text == '994': return '1994'\n",
    "    else: return text"
   ]
  },
  {
   "cell_type": "code",
   "execution_count": 598,
   "metadata": {
    "collapsed": false
   },
   "outputs": [],
   "source": [
    "for pid, response in responses.iteritems():\n",
    "    response[15] = get_year(response[15], response[168])\n",
    "    del response[168]\n",
    "    responses[pid] = response\n",
    "    \n",
    "del questions[168]\n",
    "\n",
    "list_of_fields[15] = 'year_founded'"
   ]
  },
  {
   "cell_type": "markdown",
   "metadata": {},
   "source": [
    "Question 16: `cash_reserves`  \n",
    "\n",
    "1. No response\n",
    "2. None\n",
    "3. One month or less\n",
    "4. Two to three months\n",
    "5. Four to six months\n",
    "6. Seven to nine months\n",
    "7. Ten months to a year\n",
    "8. Over a year"
   ]
  },
  {
   "cell_type": "code",
   "execution_count": 599,
   "metadata": {
    "collapsed": false
   },
   "outputs": [],
   "source": [
    "def get_cash_reserves(text):\n",
    "    if not text: return \"No response\"\n",
    "    else: return text"
   ]
  },
  {
   "cell_type": "code",
   "execution_count": 600,
   "metadata": {
    "collapsed": false
   },
   "outputs": [],
   "source": [
    "for pid, response in responses.iteritems():\n",
    "    response[16] = get_cash_reserves(response[16])\n",
    "    responses[pid] = response\n",
    "    \n",
    "list_of_fields[16] = 'cash_reserves'"
   ]
  },
  {
   "cell_type": "markdown",
   "metadata": {},
   "source": [
    "Question 17: `num_years_in_curr_pos`  \n",
    "(with board or in current management position)\n",
    "\n",
    "1. Less than 1 Year\n",
    "2. 1-2 Years\n",
    "3. 3-5 Years\n",
    "4. 6-9 Years\n",
    "5. 10-19 Years\n",
    "6. 20+ Years"
   ]
  },
  {
   "cell_type": "code",
   "execution_count": 601,
   "metadata": {
    "collapsed": false
   },
   "outputs": [],
   "source": [
    "def get_num_years(text1, text2):\n",
    "    text = text1 if len(text1) > len(text2) else text2\n",
    "    if not text: return \"No response\"\n",
    "    if text.startswith('1 '): return '1-2 Years'\n",
    "    if text.startswith('10'): return '10-19 years'\n",
    "    if text.startswith('3'): return '3-5 years'\n",
    "    if text.startswith('6 '): return '6-9 years'\n",
    "    else: return text"
   ]
  },
  {
   "cell_type": "code",
   "execution_count": 602,
   "metadata": {
    "collapsed": false
   },
   "outputs": [],
   "source": [
    "for pid, response in responses.iteritems():\n",
    "    response[17] = get_num_years(response[17], response[269])\n",
    "    responses[pid] = response\n",
    "    del response[269]\n",
    "\n",
    "questions[17] = (14, 'How many years have you been in your current position (in board or management)?')\n",
    "del questions[269]\n",
    "\n",
    "list_of_fields[17] = 'num_years_in_curr_pos'"
   ]
  },
  {
   "cell_type": "markdown",
   "metadata": {},
   "source": [
    "Question 18: `years_in_nonprofit`  \n",
    "\n",
    "1. No response\n",
    "2. [Number between 1 and 50]\n",
    "3. '50+'"
   ]
  },
  {
   "cell_type": "code",
   "execution_count": 603,
   "metadata": {
    "collapsed": false
   },
   "outputs": [],
   "source": [
    "def get_num_years(text):\n",
    "    if not text: return \"No response\"\n",
    "    elif text != '50+' and text != 'No response': return int(text)\n",
    "    return text"
   ]
  },
  {
   "cell_type": "code",
   "execution_count": 604,
   "metadata": {
    "collapsed": false
   },
   "outputs": [],
   "source": [
    "for pid, response in responses.iteritems():\n",
    "    response[18] = get_num_years(response[18])\n",
    "    responses[pid] = response\n",
    "    \n",
    "list_of_fields[18] = 'years_in_nonprofit'"
   ]
  },
  {
   "cell_type": "markdown",
   "metadata": {},
   "source": [
    "Question 19: `past_sectors_worked`  \n",
    "\n",
    "1. Public\n",
    "2. Private\n",
    "3. Non-profit\n",
    "4. Other\n",
    "5. No response"
   ]
  },
  {
   "cell_type": "code",
   "execution_count": 605,
   "metadata": {
    "collapsed": false
   },
   "outputs": [],
   "source": [
    "def get_past_sectors(lines):\n",
    "    sectors = []\n",
    "    if lines[0] == '-': return [\"No response\"]\n",
    "    if lines[0] == '1': sectors.append(\"Public\")\n",
    "    if lines[1] == '1': sectors.append(\"Private\")\n",
    "    if lines[2] == '1':\n",
    "        text = lines[3].lower()\n",
    "        if '501' in text or 'nonprofit' in text or 'non profit' in text or 'non-profit' in text \\\n",
    "            or 'not for profit' in text or 'not-for-profit' in text or 'ymca' in text or 'volunteer' in text:\n",
    "            sectors.append(\"Non-profit\")\n",
    "        elif 'consultant' in text:\n",
    "            sectors.append(\"Private\")\n",
    "        elif 'public' in text or 'cdc' in text:\n",
    "            sectors.append(\"Public\")\n",
    "        else:\n",
    "            sectors.append(\"Other\")\n",
    "        \n",
    "    return list(set(sectors))"
   ]
  },
  {
   "cell_type": "code",
   "execution_count": 606,
   "metadata": {
    "collapsed": false
   },
   "outputs": [],
   "source": [
    "for pid, response in responses.iteritems():\n",
    "    response[19] = get_past_sectors(response[19:23])\n",
    "    del response[20:23]\n",
    "    responses[pid] = response\n",
    "    \n",
    "questions[19] = (16, 'What sectors have you held a management position in the last 10 years?')\n",
    "del questions[20:23]\n",
    "list_of_fields[19] = 'past_sectors_worked'"
   ]
  },
  {
   "cell_type": "markdown",
   "metadata": {},
   "source": [
    "Question 20: `previous_positions`\n",
    "\n",
    "1. No response\n",
    "2. Board member\n",
    "3. Paid staff member\n",
    "4. Volunteer"
   ]
  },
  {
   "cell_type": "code",
   "execution_count": 607,
   "metadata": {
    "collapsed": false
   },
   "outputs": [],
   "source": [
    "def get_prev_positions(lines):\n",
    "    positions = []\n",
    "    if lines[0] == '-': return [\"No response\"]\n",
    "    if lines[0] == '1': positions.append(\"Board member\")\n",
    "    if lines[1] == '1': positions.append(\"Paid staff member\")\n",
    "    if lines[2] == '1': positions.append(\"Volunteer\")\n",
    "        \n",
    "    return positions"
   ]
  },
  {
   "cell_type": "code",
   "execution_count": 608,
   "metadata": {
    "collapsed": false
   },
   "outputs": [],
   "source": [
    "for pid, response in responses.iteritems():\n",
    "    response[20] = get_prev_positions(response[20:23])\n",
    "    del response[21:23]\n",
    "    responses[pid] = response\n",
    "    \n",
    "questions[20] = (17, 'What positions have you held previous to becoming a leader in the organization?')\n",
    "del questions[21:23]\n",
    "list_of_fields[20] = 'previous_positions'"
   ]
  },
  {
   "cell_type": "markdown",
   "metadata": {},
   "source": [
    "Question 21: `predecessor`\n",
    "\n",
    "1. No response\n",
    "2. Do not know\n",
    "3. Forced resignation / discharged\n",
    "4. I have no predecessor\n",
    "5. Personal reasons (illness, death, family, etc.)\n",
    "6. Voluntarily (dissatisfied with the organization)\n",
    "7. Voluntarily (not due to dissatisfaction)"
   ]
  },
  {
   "cell_type": "code",
   "execution_count": 609,
   "metadata": {
    "collapsed": false
   },
   "outputs": [],
   "source": [
    "def get_predecessor(text):\n",
    "    if not text: return 'No response'\n",
    "    else: return text"
   ]
  },
  {
   "cell_type": "code",
   "execution_count": 610,
   "metadata": {
    "collapsed": false
   },
   "outputs": [],
   "source": [
    "for pid, response in responses.iteritems():\n",
    "    response[21] = get_predecessor(response[21])\n",
    "    responses[pid] = response\n",
    "    \n",
    "questions[21] = (18, 'What best describes how your predecessor left the position?')\n",
    "list_of_fields[21] = 'predecessor'"
   ]
  },
  {
   "cell_type": "markdown",
   "metadata": {},
   "source": [
    "Question 22: `situation_inherited`\n",
    "\n",
    "1. No response\n",
    "2. [string freeform]"
   ]
  },
  {
   "cell_type": "code",
   "execution_count": 611,
   "metadata": {
    "collapsed": false
   },
   "outputs": [],
   "source": [
    "def get_inherited(text):\n",
    "    if not text: return 'No response'\n",
    "    else: return text"
   ]
  },
  {
   "cell_type": "code",
   "execution_count": 612,
   "metadata": {
    "collapsed": false
   },
   "outputs": [],
   "source": [
    "for pid, response in responses.iteritems():\n",
    "    response[22] = get_inherited(response[22])\n",
    "    responses[pid] = response\n",
    "    \n",
    "questions[22] = (19, 'Please describe the situation you inherited when you assumed your leadership. (Optional)')\n",
    "list_of_fields[22] = 'situation_inherited'"
   ]
  },
  {
   "cell_type": "markdown",
   "metadata": {},
   "source": [
    "Question 23: `highest_priority`\n",
    "\n",
    "1. No response\n",
    "2. [string freeform]"
   ]
  },
  {
   "cell_type": "code",
   "execution_count": 613,
   "metadata": {
    "collapsed": false
   },
   "outputs": [],
   "source": [
    "def get_priority(text):\n",
    "    if not text: return 'No response'\n",
    "    else: return text"
   ]
  },
  {
   "cell_type": "code",
   "execution_count": 614,
   "metadata": {
    "collapsed": false
   },
   "outputs": [],
   "source": [
    "for pid, response in responses.iteritems():\n",
    "    response[23] = get_priority(response[23])\n",
    "    responses[pid] = response\n",
    "    \n",
    "questions[23] = (20, 'What was your highest priority when you assumed leadership? (Optional)')\n",
    "list_of_fields[23] = 'highest_priority'"
   ]
  },
  {
   "cell_type": "markdown",
   "metadata": {},
   "source": [
    "Question 24: `time_spent_on_job`\n",
    "\n",
    "1. 0-20 hours\n",
    "2. 20-30 hours\n",
    "3. 30-40 hours\n",
    "4. 40-50 hours\n",
    "5. 50-60 hours\n",
    "6. 60-70 hours\n",
    "7. 70+ hours\n",
    "8. 0-2 hours\n",
    "9. 3-5 hours\n",
    "10. 5-8 hours\n",
    "11. 8-10 hours\n",
    "12. 10+ hours"
   ]
  },
  {
   "cell_type": "code",
   "execution_count": 615,
   "metadata": {
    "collapsed": false
   },
   "outputs": [],
   "source": [
    "def get_time_spent(text1, text2):\n",
    "    text = text1 if len(text1) > len(text2) else text2\n",
    "    if not text: return 'No response'\n",
    "    elif text.startswith('10+'): return '10+ hours'\n",
    "    elif '10-Aug' in text: return '8-10 hours'\n",
    "    elif '8-May' in text: return '5-8 hours'\n",
    "    elif '5-Mar' in text: return '3-5 hours'\n",
    "    elif 'Under 2' in text: return '0-2 hours'\n",
    "    elif 'Under 20' in text: return '0-20 hours'\n",
    "    elif text.startswith('20'): return '20-30 hours'\n",
    "    elif text.startswith('30'): return '30-40 hours'\n",
    "    elif text.startswith('40'): return '40-50 hours'\n",
    "    elif text.startswith('50'): return '50-60 hours'\n",
    "    elif text.startswith('60'): return '60-70 hours'\n",
    "    elif text.startswith('70'): return '70+ hours'\n",
    "    else: return 'No response'"
   ]
  },
  {
   "cell_type": "code",
   "execution_count": 616,
   "metadata": {
    "collapsed": false
   },
   "outputs": [],
   "source": [
    "for pid, response in responses.iteritems():\n",
    "    response[24] = get_time_spent(response[24],response[275])\n",
    "    del response[275]\n",
    "    responses[pid] = response\n",
    "\n",
    "del questions[275]\n",
    "questions[24] = (21, 'On average, how many hours per week do you work?')\n",
    "list_of_fields[24] = 'time_spent_on_job'"
   ]
  },
  {
   "cell_type": "markdown",
   "metadata": {},
   "source": [
    "Question 25: `feel_about_job`\n",
    "\n",
    "1. I  am very unhappy in my job\n",
    "2. I am very happy in my job\n",
    "3. I have more bad days than good days',\n",
    "4. I have more good days than bad days',\n",
    "5. My experience is neutral/evenly mixed between bad and good"
   ]
  },
  {
   "cell_type": "code",
   "execution_count": 617,
   "metadata": {
    "collapsed": false
   },
   "outputs": [],
   "source": [
    "def get_feels(text):\n",
    "    if not text: return 'No response'\n",
    "    else: return text"
   ]
  },
  {
   "cell_type": "code",
   "execution_count": 618,
   "metadata": {
    "collapsed": false
   },
   "outputs": [],
   "source": [
    "for pid, response in responses.iteritems():\n",
    "    response[25] = get_feels(response[25])\n",
    "    responses[pid] = response\n",
    "    \n",
    "list_of_fields[25] = 'feel_about_job'"
   ]
  },
  {
   "cell_type": "markdown",
   "metadata": {},
   "source": [
    "Question 26: `feel_about_job_freeform`\n",
    "\n",
    "1. No response\n",
    "2. [string text]"
   ]
  },
  {
   "cell_type": "code",
   "execution_count": 619,
   "metadata": {
    "collapsed": false
   },
   "outputs": [],
   "source": [
    "def get_feels_freeform(text):\n",
    "    if not text: return 'No response'\n",
    "    else: return text"
   ]
  },
  {
   "cell_type": "code",
   "execution_count": 620,
   "metadata": {
    "collapsed": false
   },
   "outputs": [],
   "source": [
    "for pid, response in responses.iteritems():\n",
    "    response[26] = get_feels_freeform(response[26])\n",
    "    responses[pid] = response\n",
    "    \n",
    "questions[26] = (22, 'Describe more about how you feel about your job. (Optional)')\n",
    "list_of_fields[26] = 'feel_about_job_freeform'"
   ]
  },
  {
   "cell_type": "markdown",
   "metadata": {},
   "source": [
    "Question 27: `feel_about_hours`\n",
    "\n",
    "1. No response\n",
    "2. Completely\n",
    "3. Mostly\n",
    "4. Somewhat\n",
    "5. Slightly\n",
    "6. Not at all"
   ]
  },
  {
   "cell_type": "code",
   "execution_count": 621,
   "metadata": {
    "collapsed": false
   },
   "outputs": [],
   "source": [
    "def get_feel_hours(text1, text2):\n",
    "    text = text1 if len(text1) > len(text2) else text2\n",
    "    if not text: return \"No Response\"\n",
    "    else: return text"
   ]
  },
  {
   "cell_type": "code",
   "execution_count": 622,
   "metadata": {
    "collapsed": false
   },
   "outputs": [],
   "source": [
    "for pid, response in responses.iteritems():\n",
    "    response[27] = get_feel_hours(response[27], response[275])\n",
    "    del response[275]\n",
    "    responses[pid] = response\n",
    "\n",
    "del questions[275]\n",
    "questions[27] = (23, 'To what extent do you feel you are putting in the right amount of hours?')\n",
    "list_of_fields[27] = 'feel_about_hours'"
   ]
  },
  {
   "cell_type": "markdown",
   "metadata": {},
   "source": [
    "Question 28: `feel_about_work_life`\n",
    "\n",
    "1. No response\n",
    "2. Completely\n",
    "3. Mostly\n",
    "4. Somewhat\n",
    "5. Slightly\n",
    "6. Not at all"
   ]
  },
  {
   "cell_type": "code",
   "execution_count": 623,
   "metadata": {
    "collapsed": false
   },
   "outputs": [],
   "source": [
    "def get_feel_work_life(text):\n",
    "    if not text: return \"No Response\"\n",
    "    else: return text"
   ]
  },
  {
   "cell_type": "code",
   "execution_count": 624,
   "metadata": {
    "collapsed": false
   },
   "outputs": [],
   "source": [
    "for pid, response in responses.iteritems():\n",
    "    response[28] = get_feel_work_life(response[28])\n",
    "    responses[pid] = response\n",
    "\n",
    "questions[28] = (23, 'To what extent do you feel you have a work-life balance?')\n",
    "list_of_fields[28] = 'feel_about_work_life'"
   ]
  },
  {
   "cell_type": "markdown",
   "metadata": {},
   "source": [
    "Question 29: `feel_burned_out`\n",
    "\n",
    "1. No response\n",
    "2. Completely\n",
    "3. Mostly\n",
    "4. Somewhat\n",
    "5. Slightly\n",
    "6. Not at all"
   ]
  },
  {
   "cell_type": "code",
   "execution_count": 625,
   "metadata": {
    "collapsed": true
   },
   "outputs": [],
   "source": [
    "def get_feel_burnout(text1, text2):\n",
    "    text = text1 if len(text1) > text2 else text2\n",
    "    if not text: return \"No Response\"\n",
    "    else: return text"
   ]
  },
  {
   "cell_type": "code",
   "execution_count": 626,
   "metadata": {
    "collapsed": true
   },
   "outputs": [],
   "source": [
    "for pid, response in responses.iteritems():\n",
    "    response[29] = get_feel_burnout(response[29], response[277])\n",
    "    del response[277]\n",
    "    responses[pid] = response\n",
    "\n",
    "questions[29] = (23, 'To what extent do you feel you are burned-out?')\n",
    "del questions[277]\n",
    "list_of_fields[29] = 'feel_burned_out'"
   ]
  },
  {
   "cell_type": "markdown",
   "metadata": {},
   "source": [
    "Question 30: `effective_lead_self`  \n",
    "Question 31: `effective_lead_others`  \n",
    "Question 32: `effective_lead_mission`  \n",
    "Question 33: `effective_lead_change`  \n",
    "Question 34: `effective_lead_external`  \n",
    "\n",
    "1. Very effective\n",
    "2. Effective\n",
    "3. Neutral\n",
    "5. Ineffective\n",
    "4. Very ineffective\n",
    "5. Do not know\n",
    "6. No Response"
   ]
  },
  {
   "cell_type": "code",
   "execution_count": 627,
   "metadata": {
    "collapsed": true
   },
   "outputs": [],
   "source": [
    "def get_effective(text1, text2):\n",
    "    text = text1 if len(text1) > text2 else text2\n",
    "    if not text: return \"No Response\"\n",
    "    elif text == 'Do not know/ Not sure': return 'Do not know'\n",
    "    else: return text"
   ]
  },
  {
   "cell_type": "code",
   "execution_count": 628,
   "metadata": {
    "collapsed": true
   },
   "outputs": [],
   "source": [
    "for pid, response in responses.iteritems():\n",
    "    for i in xrange(5):\n",
    "        response.insert(30+i, get_effective(response[42+i], response[164]))\n",
    "        del response[43+i]\n",
    "        del response[164]\n",
    "    \n",
    "    responses[pid] = response\n",
    "\n",
    "new_q = ['How effective do you think you are in leading your own personal well-being, motivation, and understanding of leadership?',\n",
    "        'How effective do you think you are in leading other people in your organization?',\n",
    "        'How effective do you think you are in leading and promoting the mission/objectives in your organization?',\n",
    "        'How effective do you think you are in leading change within your organization?',\n",
    "        'How effective do you think you are in leading and working with people external to your organization?']\n",
    "    \n",
    "lof = ['effective_lead_self', 'effective_lead_others', 'effective_lead_mission', 'effective_lead_change', 'effective_lead_external']\n",
    "for i in xrange(5):\n",
    "    questions.insert(30+i, (26, new_q[i]))\n",
    "    del questions[43+i]\n",
    "    del questions[164]\n",
    "    list_of_fields[30+i] = lof[i]\n",
    "    hardcoded_order[30+i] = ['Very effective', 'Effective', 'Neutral', 'Ineffective', 'Very ineffective', 'Do not know', 'No Response']"
   ]
  },
  {
   "cell_type": "markdown",
   "metadata": {},
   "source": [
    "Question 35: `how_long_leaders`  \n",
    "Question 36: `make_stay_longer`  \n",
    "Question 37: `make_stay_longer_freeform`  \n",
    "\n",
    "For Question 35:  \n",
    "['Less than 1 year', '1-2 years', '3-5 years', '6-10 years', '11 years or more', 'Leader/I am probably not thinking about leaving the organization', 'No response']\n",
    "\n",
    "For Question 36, a selection from:  \n",
    "['Feeling less burned out', \n",
    "         'Fundraising supports in place', \n",
    "         'Stronger financial position', \n",
    "         'A higher-performing board of directors',\n",
    "         'A clear succession plan',\n",
    "         'Less turnover of staff',\n",
    "         'Fewer personnel issues',\n",
    "         'Higher pay/better benefits for self',\n",
    "         'Higher pay/better benefits for employees',\n",
    "         'Higher contribution to retirement fund',\n",
    "         'A new organizational, field, or community challenge that could recapture your focus',\n",
    "         'Other']\n",
    "\n",
    "For Question 37:  \n",
    "[freeform string]"
   ]
  },
  {
   "cell_type": "code",
   "execution_count": 629,
   "metadata": {
    "collapsed": false
   },
   "outputs": [],
   "source": [
    "def get_hlong(text1, text2):\n",
    "    text = text1 if len(text1) > text2 else text2\n",
    "    if not text: return \"No Response\"\n",
    "    elif text.startswith('I do not think'): return 'Leader/I am probably not thinking about leaving the organization'\n",
    "    else: return text\n",
    "    \n",
    "def get_reasons(lines):\n",
    "    r = ['Feeling less burned out', \n",
    "         'Fundraising supports in place', \n",
    "         'Stronger financial position', \n",
    "         'A higher-performing board of directors',\n",
    "         'A clear succession plan',\n",
    "         'Less turnover of staff',\n",
    "         'Fewer personnel issues',\n",
    "         'Higher pay/better benefits for self',\n",
    "         'Higher pay/better benefits for employees',\n",
    "         'Higher contribution to retirement fund',\n",
    "         'A new organizational, field, or community challenge that could recapture your focus',\n",
    "         'Other']\n",
    "    \n",
    "    if lines[0] == '-': return ['No response']\n",
    "    else:\n",
    "        reasons = []\n",
    "        for i, line in enumerate(lines):\n",
    "            if line == '1':\n",
    "                reasons.append(r[i])\n",
    "        return reasons\n",
    "    \n",
    "def get_reason_freeform(text):\n",
    "    if not text: return \"No Response\"\n",
    "    else: return text"
   ]
  },
  {
   "cell_type": "code",
   "execution_count": 630,
   "metadata": {
    "collapsed": false
   },
   "outputs": [],
   "source": [
    "for pid, response in responses.iteritems():\n",
    "    response.insert(35, get_hlong(response[73], response[196]))\n",
    "    del response[74]\n",
    "    del response[196]\n",
    "    \n",
    "    response.insert(36, get_reasons(response[74:86]))\n",
    "    del response[75:87]\n",
    "    \n",
    "    response.insert(37, get_reason_freeform(response[75]))\n",
    "    del response[76]\n",
    "\n",
    "questions.insert(35, (32, 'How long do you foresee the leaders (you) remaining in their (your) current position?'))\n",
    "del questions[74]\n",
    "del questions[196]\n",
    "\n",
    "questions.insert(36, (33, 'If you are planning to leave within the next two years, what conditions might make you consider staying longer?'))\n",
    "del questions[75:87]\n",
    "\n",
    "questions.insert(37, (33, 'Please elaborate if you chose \"Other\" for your staying conditions.'))\n",
    "del questions[76]\n",
    "    \n",
    "list_of_fields[35] = 'how_long_leaders'\n",
    "list_of_fields[36] = 'make_stay_longer'\n",
    "list_of_fields[37] = 'make_stay_longer_freeform'\n",
    "\n",
    "hardcoded_order[35] = ['Less than 1 year', '1-2 years', '3-5 years', '6-10 years', '11 years or more', 'Leader/I am probably not thinking about leaving the organization', 'No response']\n"
   ]
  },
  {
   "cell_type": "markdown",
   "metadata": {},
   "source": [
    "Question 38: `ann_board_perf_eval`  \n",
    "Question 39: `ann_board_perf_eval_usefulness`  \n",
    "\n",
    "Question 38:  \n",
    "['No response', 'Yes', 'Have not in the past but plan to in the future', 'Have in the past but do not currently', 'No']\n",
    "\n",
    "Question 39:  \n",
    "['No response', 'Useful', 'Very useful', 'Somewhat useful', 'Slightly useful', 'Not at all useful']"
   ]
  },
  {
   "cell_type": "code",
   "execution_count": 631,
   "metadata": {
    "collapsed": true
   },
   "outputs": [],
   "source": [
    "def get_perf(text):\n",
    "    if not text: return \"No Response\"\n",
    "    else: return text"
   ]
  },
  {
   "cell_type": "code",
   "execution_count": 632,
   "metadata": {
    "collapsed": true
   },
   "outputs": [],
   "source": [
    "for pid, response in responses.iteritems():\n",
    "    response.insert(38, get_perf(response[124]))\n",
    "    del response[125]\n",
    "                    \n",
    "    response.insert(39, get_perf(response[125]))\n",
    "    del response[126]\n",
    "    \n",
    "questions.insert(38, questions[124])\n",
    "del questions[125]\n",
    "\n",
    "questions.insert(39, questions[125])\n",
    "del questions[126]\n",
    "\n",
    "list_of_fields[38] = 'ann_board_perf_eval'\n",
    "list_of_fields[39] = 'ann_board_perf_eval_usefulness'\n",
    "\n",
    "hardcoded_order[39] = ['Very useful', 'Useful', 'Somewhat useful', 'Slightly useful', 'Not at all useful', 'No response']"
   ]
  },
  {
   "cell_type": "markdown",
   "metadata": {},
   "source": [
    "Question 40: `bench_strength`  \n",
    "Question 41: `bench_strength_freeform`\n",
    "\n",
    "Question 40 responses:  \n",
    "['Yes', 'Somewhat', 'No', 'No response']\n",
    "\n",
    "Question 41 responses:  \n",
    "['No response', [freeform string]]"
   ]
  },
  {
   "cell_type": "code",
   "execution_count": 633,
   "metadata": {
    "collapsed": true
   },
   "outputs": [],
   "source": [
    "def get_bs(text1, text2):\n",
    "    text = text1 if len(text1) > len(text2) else text2\n",
    "    if not text: return \"No Response\"\n",
    "    elif text.startswith('Somewhat'): return 'Somewhat'\n",
    "    else: return text"
   ]
  },
  {
   "cell_type": "code",
   "execution_count": 634,
   "metadata": {
    "collapsed": false
   },
   "outputs": [],
   "source": [
    "for pid, response in responses.iteritems():\n",
    "    response.insert(40, get_bs(response[133], response[218]))\n",
    "    del response[134]\n",
    "    del response[218]\n",
    "                    \n",
    "    response.insert(41, get_bs(response[134], response[218]))\n",
    "    del response[135]\n",
    "    del response[218]\n",
    "\n",
    "\n",
    "questions.insert(40, (53, 'Do you believe there is enough bench strength in your organization?'))\n",
    "del questions[134]\n",
    "del questions[218]\n",
    "\n",
    "questions.insert(41, (53, 'If you answered \"Somewhat\" for bench strength, please elaborate.'))\n",
    "del questions[135]\n",
    "del questions[218]\n",
    "\n",
    "list_of_fields[40] = 'bench_strength'\n",
    "list_of_fields[41] = 'bench_strength_freeform'\n",
    "\n",
    "hardcoded_order[40] = ['Yes', 'Somewhat', 'No', 'No response']"
   ]
  },
  {
   "cell_type": "markdown",
   "metadata": {},
   "source": [
    "Question 42: `staff_racial_diversity`  \n",
    "Question 43: `staff_gender_diversity`  \n",
    "Question 44: `staff_sexual_diversity`  \n",
    "Question 45: `staff_class_diversity`  \n",
    "Question 46: `staff_ability_diversity`  \n",
    "Question 47: `staff_diversity_freeform`  \n",
    "\n",
    "Question 48: `board_racial_diversity`  \n",
    "Question 49: `board_gender_diversity`  \n",
    "Question 50: `board_sexual_diversity`  \n",
    "Question 51: `board_class_diversity`  \n",
    "Question 52: `board_ability_diversity`  \n",
    "Question 53: `board_diversity_freeform`  \n",
    "\n",
    "Question 42-46, 48-52 responses:  \n",
    "['Diverse', 'Somewhat diverse', 'Not at all diverse', 'Do not know/Not sure', 'No response']\n",
    "\n",
    "Question 47, 53 responses:  \n",
    "['No response', [freeform string]]"
   ]
  },
  {
   "cell_type": "code",
   "execution_count": 635,
   "metadata": {
    "collapsed": true
   },
   "outputs": [],
   "source": [
    "def get_diversity(text1, text2):\n",
    "    text = text1 if len(text1) > len(text2) else text2\n",
    "    if not text: return \"No response\"\n",
    "    elif text.startswith('Do not know'): return \"Do not know/Not sure\"\n",
    "    else: return text"
   ]
  },
  {
   "cell_type": "code",
   "execution_count": 636,
   "metadata": {
    "collapsed": true
   },
   "outputs": [],
   "source": [
    "for pid, response in responses.iteritems():\n",
    "    # staff diversity\n",
    "    for i in range(5):\n",
    "        response.insert(42+i, get_diversity(response[135+i], response[227]))\n",
    "        del response[136+i]\n",
    "        del response[227]\n",
    "\n",
    "nq = [(54, 'How racially diverse do you feel the staff is?'),\n",
    "     (54, 'How gender diverse do you feel the staff is?'),\n",
    "      (54, 'How sexual-orientation diverse do you feel the staff is?'),\n",
    "      (54, 'How socioeconomic class diverse do you feel the staff is?'),\n",
    "      (54, 'How ability-wise diverse do you feel the staff is?'),\n",
    "     ]\n",
    "        \n",
    "for i in range(5):\n",
    "    questions.insert(42+i, nq[i])\n",
    "    del questions[136+i]\n",
    "    del questions[227]\n",
    "    \n",
    "lf = ['staff_racial_diversity', 'staff_gender_diversity', 'staff_sexual_diversity', 'staff_class_diversity', 'staff_ability_diversity']\n",
    "\n",
    "for i in range(5):\n",
    "    hardcoded_order[42+i] = ['Diverse', 'Somewhat diverse', 'Not at all diverse', 'Do not know/Not sure', 'No response']\n",
    "    list_of_fields[42+i] = lf[i]"
   ]
  },
  {
   "cell_type": "code",
   "execution_count": 637,
   "metadata": {
    "collapsed": true
   },
   "outputs": [],
   "source": [
    "for pid, response in responses.iteritems():\n",
    "    response.insert(47, get_diversity(response[140], response[227])) #qid 54, qid 86\n",
    "    del response[141]\n",
    "    del response[227]\n",
    "    \n",
    "questions.insert(47, (54, \"Feel free to elaborate on your staff diversity responses\")) #qid 54, qid 86\n",
    "del questions[141]\n",
    "del questions[227]\n",
    "\n",
    "list_of_fields[47] = 'staff_diversity_freeform'"
   ]
  },
  {
   "cell_type": "code",
   "execution_count": 638,
   "metadata": {
    "collapsed": true
   },
   "outputs": [],
   "source": [
    "for pid, response in responses.iteritems():\n",
    "    # board diversity\n",
    "    for i in range(5):\n",
    "        response.insert(48+i, get_diversity(response[117+i], response[273]))\n",
    "        del response[118+i]\n",
    "        del response[273]\n",
    "\n",
    "nq = [(41, 'How racially diverse do you feel the board is?'),\n",
    "     (41, 'How gender diverse do you feel the board is?'),\n",
    "      (41, 'How sexual-orientation diverse do you feel the board is?'),\n",
    "      (41, 'How socioeconomically diverse do you feel the board is?'),\n",
    "      (41, 'How ability-wise diverse do you feel the board is?'),\n",
    "     ]\n",
    "        \n",
    "for i in range(5):\n",
    "    questions.insert(48+i, nq[i])\n",
    "    del questions[118+i]\n",
    "    del questions[273]\n",
    "    \n",
    "lf = ['board_racial_diversity', 'board_gender_diversity', 'board_sexual_diversity', 'board_class_diversity', 'board_ability_diversity']\n",
    "\n",
    "for i in range(5):\n",
    "    hardcoded_order[48+i] = ['Diverse', 'Somewhat diverse', 'Not at all diverse', 'Do not know/Not sure', 'No response']\n",
    "    list_of_fields[48+i] = lf[i]\n",
    "    # hardcoded_order[48+i] = ['Diverse', 'Somewhat diverse', 'Not at all diverse', 'Do not know/Not sure', 'No response']"
   ]
  },
  {
   "cell_type": "code",
   "execution_count": 639,
   "metadata": {
    "collapsed": true
   },
   "outputs": [],
   "source": [
    "for pid, response in responses.iteritems():\n",
    "    response.insert(53, get_diversity(response[122], response[273])) #qid 41, qid 86\n",
    "    del response[123]\n",
    "    del response[273]\n",
    "    \n",
    "questions.insert(53, (54, \"Feel free to elaborate on your board diversity responses\"))\n",
    "del questions[123]\n",
    "del questions[273]\n",
    "\n",
    "list_of_fields[53] = 'board_diversity_freeform'"
   ]
  },
  {
   "cell_type": "markdown",
   "metadata": {},
   "source": [
    "Question 54: `strengthen_staff`  \n",
    "Question 55: `strengthen_staff_other`\n",
    "\n",
    "One of:\n",
    "1. Budgeted professional development (training, conferences, etc.) for all staff\n",
    "2. Budgeted professional development (training, conferences, etc.) for some staff\n",
    "3. Key or all staff participate in strategic planning\n",
    "4. Key or all staff participate in budget development\n",
    "5. Staff sometimes represent or co-represent organization/executive director at meetings of collaborations, donors, board, etc.\n",
    "6. The management supports distributed leadership (decisions pushed down to where work is done)\n",
    "7. Other\n",
    "8. Don't know/Not sure"
   ]
  },
  {
   "cell_type": "code",
   "execution_count": 640,
   "metadata": {
    "collapsed": true
   },
   "outputs": [],
   "source": [
    "def get_staff(lines1, lines2, i_dont_know):\n",
    "    r = ['Budgeted professional development (training, conferences, etc.) for all staff', \n",
    "         'Budgeted professional development (training, conferences, etc.) for some staff', \n",
    "         'Key or all staff participate in strategic planning', \n",
    "         'Key or all staff participate in budget development',\n",
    "         'Staff sometimes represent or co-represent organization/executive director at meetings of collaborations, donors, board, etc.',\n",
    "         'The management supports distributed leadership (decisions pushed down to where work is done)',\n",
    "         'Other'\n",
    "        ]\n",
    "    lines = lines1 if lines1[0] != '-' else lines2\n",
    "    if lines[0] == '-': return ['No response']\n",
    "    else:\n",
    "        supports = []\n",
    "        if i_dont_know == '1': supports.append(\"Don't know/Not sure\")\n",
    "        for i, line in enumerate(lines):\n",
    "            if line == '1':\n",
    "                supports.append(r[i])\n",
    "        return supports\n",
    "    \n",
    "def get_staff_freeform(text1, text2):\n",
    "    text = text1 if len(text1) > len(text2) else text2\n",
    "    if not text: return \"No Response\"\n",
    "    else: return text"
   ]
  },
  {
   "cell_type": "code",
   "execution_count": 641,
   "metadata": {
    "collapsed": true
   },
   "outputs": [],
   "source": [
    "for pid, response in responses.iteritems():\n",
    "    freeform = get_staff_freeform(response[148], response[225])\n",
    "    response.insert(54, get_staff(response[141:148], response[218:225], response[226]))\n",
    "    del response[142:150]\n",
    "    del response[211:220]\n",
    "    response.insert(55, freeform)\n",
    "\n",
    "questions.insert(54, (55, 'How does your organization strengthen its staff?'))\n",
    "del questions[142:150]\n",
    "del questions[211:220]\n",
    "questions.insert(55, (55, 'If you indicated \"Other\", please elaborate.'))\n",
    "    \n",
    "list_of_fields[54] = 'strengthen_staff'\n",
    "list_of_fields[55] = 'strengthen_staff_other'"
   ]
  },
  {
   "cell_type": "markdown",
   "metadata": {},
   "source": [
    "Question 56: `leader_leave_identify_interim`  \n",
    "Question 57: `leader_leave_hire_interim`  \n",
    "Question 58: `leader_leave_create_internal_comm_plan`  \n",
    "Question 59: `leader_leave_create_external_comm_plan`  \n",
    "Question 60: `leader_leave_funding_continuity`  \n",
    "Question 61: `leader_leave_transition_plan`  \n",
    "Question 62: `leader_leave_fiduciary_integrity`  \n",
    "\n",
    "1. Very prepared\n",
    "2. Prepared\n",
    "3. Neutral\n",
    "4. Unprepared\n",
    "5. Very unprepared\n",
    "6. Do not know/Not sure\n",
    "7. No response"
   ]
  },
  {
   "cell_type": "code",
   "execution_count": 642,
   "metadata": {
    "collapsed": true
   },
   "outputs": [],
   "source": [
    "def get_effective(text):\n",
    "    if not text: return \"No Response\"\n",
    "    elif text == 'Do not know/ Not sure': return 'Do not know'\n",
    "    else: return text"
   ]
  },
  {
   "cell_type": "code",
   "execution_count": 643,
   "metadata": {
    "collapsed": true
   },
   "outputs": [],
   "source": [
    "for pid, response in responses.iteritems():\n",
    "    for i in xrange(7):\n",
    "        response.insert(56+i, get_effective(response[179+i]))\n",
    "        del response[180+i]\n",
    "    \n",
    "    responses[pid] = response\n",
    "\n",
    "new_q = ['If your leader were to leave suddenly (illness, etc.), do you believe the board is prepared to manage identifying interim leader(s)?',\n",
    "        'If your leader were to leave suddenly (illness, etc.), do you believe the board is prepared to manage hiring interim executive director(s)?',\n",
    "        'If your leader were to leave suddenly (illness, etc.) do you believe the board is prepared to manage an internal communications plan for staff?',\n",
    "        'If your leader were to leave suddenly (illness, etc.) do you believe the board is prepared to manage an external communications plan for stakeholders and media?',\n",
    "        'If your leader were to leave suddenly (illness, etc.) do you believe the board is prepared to ensure continuity with funding and contractual relationships?',\n",
    "         'If your leader were to leave suddenly (illness, etc.) do you believe the board is prepared to create a transition plan?',\n",
    "         'If your leader were to leave suddenly (illness, etc.) do you believe the board is prepared to work with financial staff to ensure fiduciary integrity?'\n",
    "        ]\n",
    "    \n",
    "lof = ['leader_leave_identify_interim', 'leader_leave_hire_interim', 'leader_leave_create_internal_comm_plan', 'leader_leave_create_external_comm_plan', 'leader_leave_funding_continuity', 'leader_leave_transition_plan', 'leader_leave_fiduciary_integrity']\n",
    "\n",
    "for i in xrange(7):\n",
    "    questions.insert(56+i, (76, new_q[i]))\n",
    "    del questions[180+i]\n",
    "    list_of_fields[56+i] = lof[i]\n",
    "    hardcoded_order[56+i] = ['Very prepared', 'Prepared', 'Neutral', 'Unprepared', 'Very unprepared', 'Do not know/Not sure', 'No response']\n"
   ]
  },
  {
   "cell_type": "markdown",
   "metadata": {},
   "source": [
    "Question 63: `size_board`"
   ]
  },
  {
   "cell_type": "code",
   "execution_count": 644,
   "metadata": {
    "collapsed": true
   },
   "outputs": [],
   "source": [
    "def get_size_board(text):\n",
    "    if not text: return 'No response'\n",
    "    else: return text"
   ]
  },
  {
   "cell_type": "code",
   "execution_count": 645,
   "metadata": {
    "collapsed": true
   },
   "outputs": [],
   "source": [
    "for pid, response in responses.iteritems():\n",
    "    response.insert(63, get_size_board(response[131]))\n",
    "    del response[132]\n",
    "    responses[pid] = response\n",
    "    \n",
    "questions.insert(63, (40, 'What is the size of your board?'))\n",
    "del questions[132]\n",
    "list_of_fields[63] = 'size_board'\n",
    "hardcoded_order[63] = sorted([i for i in set(uniq_ans(63, responses)[1]) if len(i) == 1]) + sorted([i for i in set(uniq_ans(63, responses)[1]) if len(i) == 2]) + sorted([i for i in set(uniq_ans(63, responses)[1]) if len(i) == 3]) + ['No response']"
   ]
  },
  {
   "cell_type": "code",
   "execution_count": 646,
   "metadata": {
    "collapsed": false
   },
   "outputs": [
    {
     "name": "stdout",
     "output_type": "stream",
     "text": [
      "True\n",
      "Wrote to /home/skoppula/mit/codeforgood/app/data/persons.json !\n",
      "Wrote to /home/skoppula/mit/codeforgood/app/data/questions.json !\n"
     ]
    }
   ],
   "source": [
    "print check_sizes()\n",
    "execute_json_write(questions, responses, list_of_fields)"
   ]
  },
  {
   "cell_type": "code",
   "execution_count": 647,
   "metadata": {
    "collapsed": false
   },
   "outputs": [
    {
     "name": "stdout",
     "output_type": "stream",
     "text": [
      "[]\n"
     ]
    },
    {
     "data": {
      "text/plain": [
       "(False,\n",
       " ['No response',\n",
       "  '48',\n",
       "  '29',\n",
       "  '24',\n",
       "  '25',\n",
       "  '26',\n",
       "  '27',\n",
       "  '20',\n",
       "  '21',\n",
       "  '22',\n",
       "  '23',\n",
       "  '45',\n",
       "  '28',\n",
       "  '43',\n",
       "  '42',\n",
       "  '3',\n",
       "  '2',\n",
       "  '5',\n",
       "  '4',\n",
       "  '7',\n",
       "  '6',\n",
       "  '9',\n",
       "  '8',\n",
       "  '51+',\n",
       "  '38',\n",
       "  '11',\n",
       "  '10',\n",
       "  '13',\n",
       "  '12',\n",
       "  '15',\n",
       "  '14',\n",
       "  '17',\n",
       "  '16',\n",
       "  '19',\n",
       "  '18',\n",
       "  '31',\n",
       "  '30',\n",
       "  '35',\n",
       "  '33',\n",
       "  '32'])"
      ]
     },
     "execution_count": 647,
     "metadata": {},
     "output_type": "execute_result"
    }
   ],
   "source": [
    "import pprint\n",
    "pp = pprint.PrettyPrinter(indent=4)\n",
    "pp.pprint(get_qindices(\"How many people are\", questions))"
   ]
  }
 ],
 "metadata": {
  "kernelspec": {
   "display_name": "Python 2",
   "language": "python",
   "name": "python2"
  },
  "language_info": {
   "codemirror_mode": {
    "name": "ipython",
    "version": 2
   },
   "file_extension": ".py",
   "mimetype": "text/x-python",
   "name": "python",
   "nbconvert_exporter": "python",
   "pygments_lexer": "ipython2",
   "version": "2.7.6"
  }
 },
 "nbformat": 4,
 "nbformat_minor": 0
}
