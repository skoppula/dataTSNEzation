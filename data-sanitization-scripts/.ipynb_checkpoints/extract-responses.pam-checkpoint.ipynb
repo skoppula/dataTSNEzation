{
 "cells": [
  {
   "cell_type": "markdown",
   "metadata": {},
   "source": [
    "Read in data: the survey question topics/question IDs"
   ]
  },
  {
   "cell_type": "code",
   "execution_count": 7,
   "metadata": {
    "collapsed": false
   },
   "outputs": [
    {
     "ename": "NameError",
     "evalue": "name 'questions_topics' is not defined",
     "output_type": "error",
     "traceback": [
      "\u001b[0;31m---------------------------------------------------------------------------\u001b[0m",
      "\u001b[0;31mNameError\u001b[0m                                 Traceback (most recent call last)",
      "\u001b[0;32m<ipython-input-7-7f7f332448d5>\u001b[0m in \u001b[0;36m<module>\u001b[0;34m()\u001b[0m\n\u001b[1;32m     26\u001b[0m \u001b[0;32mfor\u001b[0m \u001b[0mline\u001b[0m \u001b[0;32min\u001b[0m \u001b[0mlines\u001b[0m\u001b[0;34m:\u001b[0m\u001b[0;34m\u001b[0m\u001b[0m\n\u001b[1;32m     27\u001b[0m     \u001b[0;34m(\u001b[0m\u001b[0mqid\u001b[0m\u001b[0;34m,\u001b[0m\u001b[0mquestion\u001b[0m\u001b[0;34m,\u001b[0m\u001b[0mtopic\u001b[0m\u001b[0;34m,\u001b[0m\u001b[0mcategory\u001b[0m\u001b[0;34m)\u001b[0m \u001b[0;34m=\u001b[0m \u001b[0mreturn_question_tuple\u001b[0m\u001b[0;34m(\u001b[0m\u001b[0mline\u001b[0m\u001b[0;34m)\u001b[0m\u001b[0;34m\u001b[0m\u001b[0m\n\u001b[0;32m---> 28\u001b[0;31m     \u001b[0;32mif\u001b[0m \u001b[0mqid\u001b[0m \u001b[0;32mnot\u001b[0m \u001b[0;32min\u001b[0m \u001b[0mquestions_topics\u001b[0m\u001b[0;34m:\u001b[0m\u001b[0;34m\u001b[0m\u001b[0m\n\u001b[0m\u001b[1;32m     29\u001b[0m         \u001b[0mquestion_topics\u001b[0m\u001b[0;34m[\u001b[0m\u001b[0mqid\u001b[0m\u001b[0;34m]\u001b[0m \u001b[0;34m=\u001b[0m \u001b[0;34m(\u001b[0m\u001b[0mtopic\u001b[0m\u001b[0;34m,\u001b[0m\u001b[0mcategory\u001b[0m\u001b[0;34m)\u001b[0m\u001b[0;34m\u001b[0m\u001b[0m\n\u001b[1;32m     30\u001b[0m     \u001b[0;32melse\u001b[0m\u001b[0;34m:\u001b[0m\u001b[0;34m\u001b[0m\u001b[0m\n",
      "\u001b[0;31mNameError\u001b[0m: name 'questions_topics' is not defined"
     ]
    }
   ],
   "source": [
    "with open('/Users/pamelawang/Documents/MIT/IAP/CodeForGood/Awesome-TSNE-Site/data/survey-questions.tsv') as f:\n",
    "    lines = f.readlines()\n",
    "\n",
    "# Strip the top headers\n",
    "lines = lines[5:]\n",
    "question_topics = {}\n",
    "def return_question_tuple(line):\n",
    "    parts = line.split('\\t')\n",
    "    qid = int(parts[2])\n",
    "    question = parts[3].strip()\n",
    "    topic = parts[1]\n",
    "    category = parts[0]\n",
    "    if category.startswith('Scorecard I:'):\n",
    "        category = 'Organization Profile'\n",
    "    elif category.startswith('Scorecard II:'):\n",
    "        category = 'Leadership Profile'\n",
    "    elif category.startswith('Scorecard III:'):\n",
    "        category = 'Managerial Transitions'\n",
    "    elif category.startswith('Scorecard IV:'):\n",
    "        category = 'Board-Leader Dynamic'\n",
    "    elif category.startswith('Scorecard V:'):\n",
    "        category = 'Miscellaneous'\n",
    "\n",
    "    return (qid,question,topic,category)\n",
    "\n",
    "for line in lines:\n",
    "    (qid,question,topic,category) = return_question_tuple(line)\n",
    "    if qid not in question_topics:\n",
    "        question_topics[qid] = (topic,category)\n",
    "    else:\n",
    "        # print 'Collision! ' + str(qid) + ' ' + str((question,topic,category)) + ' ' + str(questions[qid])\n",
    "        pass"
   ]
  },
  {
   "cell_type": "markdown",
   "metadata": {},
   "source": [
    "Read in data: the survey responses"
   ]
  },
  {
   "cell_type": "code",
   "execution_count": null,
   "metadata": {
    "collapsed": false
   },
   "outputs": [],
   "source": [
    "def delete_question(index, questions):\n",
    "    del questions[index]\n",
    "    \n",
    "with open('/Users/pamelawang/Documents/MIT/IAP/CodeForGood/Awesome-TSNE-Site/data/responses.tsv') as f:\n",
    "    lines = f.readlines()\n",
    "    \n",
    "raw = [[part.strip() for part in line.split('\\t')] for line in lines]\n",
    "\n",
    "original_questions = [(int(line[3]),line[4]) for line in raw[1:]]\n",
    "questions = [(int(line[3]),line[4]) for line in raw[1:]]\n",
    "    \n",
    "# Convert raw cells to response dictionary\n",
    "# One entry per surveyed person\n",
    "responses = dict()\n",
    "for i in range(5,len(raw[0])):\n",
    "    responses[raw[0][i]] = []\n",
    "    for line in raw[1:]:\n",
    "        responses[raw[0][i]].append(line[i])\n",
    "        \n",
    "list_of_fields = dict()\n",
    "# 'pid':[number] in final JSON file"
   ]
  },
  {
   "cell_type": "markdown",
   "metadata": {},
   "source": [
    "Helper functions"
   ]
  },
  {
   "cell_type": "code",
   "execution_count": null,
   "metadata": {
    "collapsed": false
   },
   "outputs": [],
   "source": [
    "def uniq_ans(question_index, responses):\n",
    "    if type(responses.values()[0][question_index]) is list:\n",
    "        poss_responses = set()\n",
    "        for response in responses.values():\n",
    "            poss_responses = poss_responses.union(set(response[question_index]))\n",
    "        return True, poss_responses\n",
    "    else:\n",
    "        return False, set([str(response[question_index]) for response in responses.values()])"
   ]
  },
  {
   "cell_type": "code",
   "execution_count": null,
   "metadata": {
    "collapsed": false
   },
   "outputs": [],
   "source": [
    "def get_qindices(query, questions):\n",
    "    return [(i,a) for i,a in enumerate(questions) if query in a[1]]"
   ]
  },
  {
   "cell_type": "code",
   "execution_count": null,
   "metadata": {
    "collapsed": false
   },
   "outputs": [],
   "source": [
    "def check_sizes():\n",
    "    return len(questions) == len(responses[responses.keys()[0]])"
   ]
  },
  {
   "cell_type": "markdown",
   "metadata": {},
   "source": [
    "Question 0: `job_category`\n",
    "\n",
    "1. Board member\n",
    "2. Organization leader"
   ]
  },
  {
   "cell_type": "code",
   "execution_count": null,
   "metadata": {
    "collapsed": false
   },
   "outputs": [],
   "source": [
    "def categorize_job_category(line):\n",
    "    line = line.lower()\n",
    "    if 'board member' in line:\n",
    "        return 'Board member'\n",
    "    else:\n",
    "        return 'Organization leader'"
   ]
  },
  {
   "cell_type": "code",
   "execution_count": null,
   "metadata": {
    "collapsed": false
   },
   "outputs": [],
   "source": [
    "for pid, response in responses.iteritems():\n",
    "    response[0] = categorize_job_category(response[0])\n",
    "    responses[pid] = response\n",
    "\n",
    "list_of_fields[0] = 'job_category'"
   ]
  },
  {
   "cell_type": "markdown",
   "metadata": {},
   "source": [
    "Question 1: `job_title`\n",
    "\n",
    "A possibly empty list with one or more of the following:\n",
    "\n",
    "1. Pastor\n",
    "2. Director\n",
    "3. Founder\n",
    "4. CEO\n",
    "5. CFO\n",
    "6. Board Chairman\n",
    "7. Chief Development Officer\n",
    "8. President\n",
    "9. Consultant\n",
    "10. Manager"
   ]
  },
  {
   "cell_type": "code",
   "execution_count": null,
   "metadata": {
    "collapsed": false
   },
   "outputs": [],
   "source": [
    "def categorize_job_titles(line1, line2):\n",
    "    line = line1 + ' ' + line2\n",
    "    line = line.lower()\n",
    "    out = []\n",
    "    if line == '': return ['']\n",
    "    if 'Member of leadership team' in line:\n",
    "        return ['Part of a leadership team']\n",
    "\n",
    "    bp = True\n",
    "    if 'pastor' in line:\n",
    "        out.append('Pastor')\n",
    "    if 'director' in line:\n",
    "        out.append('Director')\n",
    "    if 'founder' in line:\n",
    "        out.append('Founder')\n",
    "    if 'ceo' in line or 'chief executive office' in line:\n",
    "        out.append('CEO')\n",
    "    if 'board president' in line or 'president of the board' in line:\n",
    "        bp = False\n",
    "        out.append('Board President')\n",
    "    if 'cfo' in line:\n",
    "        out.append('CFO')\n",
    "    if 'chair' in line:\n",
    "        out.append('Board Chairman')\n",
    "    if 'Chief Development Officer' in line:\n",
    "        out.append('Chief Development Officer')\n",
    "    if 'president' in line and bp:\n",
    "        out.append('President')\n",
    "    if 'consultant' in line:\n",
    "        out.append('Consultant')\n",
    "    if 'manager' in line:\n",
    "        out.append('Manager')\n",
    "\n",
    "    return out"
   ]
  },
  {
   "cell_type": "code",
   "execution_count": null,
   "metadata": {
    "collapsed": false
   },
   "outputs": [],
   "source": [
    "for pid, response in responses.iteritems():\n",
    "    response[1] = categorize_job_titles(response[1], response[2])\n",
    "    del response[2]\n",
    "    responses[pid] = response\n",
    "    \n",
    "del questions[2]\n",
    "list_of_fields[1] = 'job_title'"
   ]
  },
  {
   "cell_type": "markdown",
   "metadata": {},
   "source": [
    "Question 2: `age`\n",
    "\n",
    "1. 18-24\n",
    "2. 25-34\n",
    "3. 35-44\n",
    "4. 45-54\n",
    "5. 55-64\n",
    "6. 65 or Above\n",
    "7. Prefer Not to Answer"
   ]
  },
  {
   "cell_type": "code",
   "execution_count": null,
   "metadata": {
    "collapsed": false
   },
   "outputs": [],
   "source": [
    "def get_age(line1, line2):\n",
    "    assert (line1 == line2) or (line1 and not line2) or (line2 and not line1)\n",
    "    if line1:\n",
    "        return line1\n",
    "    else:\n",
    "        return line2"
   ]
  },
  {
   "cell_type": "code",
   "execution_count": null,
   "metadata": {
    "collapsed": false
   },
   "outputs": [],
   "source": [
    "# get_qindices(\"your age\", questions): 2 and 378\n",
    "\n",
    "for pid, response in responses.iteritems():\n",
    "    response[2] = get_age(response[2], response[378])\n",
    "    del response[378]\n",
    "    responses[pid] = response\n",
    "    \n",
    "del questions[378]\n",
    "list_of_fields[2] = 'age'"
   ]
  },
  {
   "cell_type": "markdown",
   "metadata": {},
   "source": [
    "Question 3: `race`\n",
    "\n",
    "1. American Indian or Alaskan Native  \n",
    "2. Asian  \n",
    "3. Black or African American  \n",
    "4. Hispanic or Latino/Latina  \n",
    "5. Native Hawaiian or other Pacific Islander  \n",
    "6. White  \n",
    "7. Decline to state \n",
    "8. Mix\n",
    "9. Other"
   ]
  },
  {
   "cell_type": "code",
   "execution_count": null,
   "metadata": {
    "collapsed": false
   },
   "outputs": [],
   "source": [
    "# def interpret_typed_race(text):\n",
    "#   if 'mix' in text:\n",
    "#       race = 'Mix'\n",
    "#   if 'asian' in text:\n",
    "#       race = 'Asian'\n",
    "#   elif 'jew' in text or 'white' in text or 'euro' in text or 'azorean' in text:\n",
    "#       race = 'White'\n",
    "#   elif 'hesitate' in text:\n",
    "#       race = 'Decline to state'\n",
    "#   return 'Other'\n",
    "\n",
    "def get_race(lines1, lines2):\n",
    "    conversion = {0:'American Indian or Alaskan Native', 1:'Asian', 2:'Black or African American', \n",
    "                  3:'Hispanic or Latino/Latina', 4:'Native Hawaiian or other Pacific Islander',\n",
    "                  5:'White', 6:'Decline to state'} # Must be same order as in survey\n",
    "    \n",
    "    lines = lines1 if '1' in lines1 else lines2\n",
    "\n",
    "    try:\n",
    "        index = lines.index('1')  # Remember only works if there is no '1' in the 'Other' text field\n",
    "        if index in conversion:\n",
    "            race = conversion[index]\n",
    "        elif index is len(conversion):\n",
    "            # race = interpret_typed_race(lines[-1].lower())\n",
    "            race = 'Other'\n",
    "            \n",
    "    except ValueError:\n",
    "        return ''\n",
    "    \n",
    "    return race"
   ]
  },
  {
   "cell_type": "code",
   "execution_count": null,
   "metadata": {
    "collapsed": false
   },
   "outputs": [],
   "source": [
    "for pid, response in responses.iteritems():\n",
    "    response[3] = get_race(response[3:12], response[378:387])\n",
    "    del response[4:12]\n",
    "    del response[370:379]\n",
    "    responses[pid] = response\n",
    "    \n",
    "questions[3] = (3, 'What is your race/ethnicity?')\n",
    "del questions[4:12]\n",
    "del questions[370:379]\n",
    "list_of_fields[3] = 'race'"
   ]
  },
  {
   "cell_type": "markdown",
   "metadata": {},
   "source": [
    "Question 4: `gender`\n",
    "\n",
    "1. Female/Woman\n",
    "2. Male/Man\n",
    "3. Transgender\n",
    "4. Decline to state\n",
    "5. Other"
   ]
  },
  {
   "cell_type": "code",
   "execution_count": null,
   "metadata": {
    "collapsed": false
   },
   "outputs": [],
   "source": [
    "def get_gender(lines1, lines2):\n",
    "    conversion = {0:'Female/Woman', 1:'Male/Man', 2:'Transgender', 3:'Decline to state'} # Must be same order as in survey\n",
    "    \n",
    "    lines = lines1 if '1' in lines1 else lines2\n",
    "\n",
    "    try:\n",
    "        index = lines.index('1') # Remember only works if there is no '1' in the 'Other' text field\n",
    "        if index in conversion:\n",
    "            race = conversion[index]\n",
    "        elif index is len(conversion):\n",
    "            race = 'Other'\n",
    "            \n",
    "    except ValueError:\n",
    "        return ''\n",
    "    \n",
    "    return race"
   ]
  },
  {
   "cell_type": "code",
   "execution_count": null,
   "metadata": {
    "collapsed": false
   },
   "outputs": [],
   "source": [
    "for pid, response in responses.iteritems():\n",
    "    response[4] = get_gender(response[4:10], response[370:376])\n",
    "    del response[5:10]\n",
    "    del response[365:371]\n",
    "    responses[pid] = response\n",
    "    \n",
    "questions[4] = (4, 'What is your gender?')\n",
    "del questions[5:10]\n",
    "del questions[365:371]\n",
    "list_of_fields[4] = 'gender'"
   ]
  },
  {
   "cell_type": "markdown",
   "metadata": {},
   "source": [
    "Question 5: `highest_education`\n",
    "\n",
    "1. High School\n",
    "2. Bachelors\n",
    "3. Masters\n",
    "4. MBA/Nonprofit Management Masters\n",
    "5. PhD, JD, or other advanced degree\n",
    "6. No response"
   ]
  },
  {
   "cell_type": "code",
   "execution_count": null,
   "metadata": {
    "collapsed": false
   },
   "outputs": [],
   "source": [
    "def get_education(text1, text2):\n",
    "    assert text1 == '' or text2 == '' or text1 == text2\n",
    "    text = text1 if len(text1) > len(text2) else text2\n",
    "    \n",
    "    if not text: return 'No response'\n",
    "    if 'MBA' in text: return \"MBA/Management Master's\"\n",
    "    elif 'Master' in text: return \"Other Master's Degree\"\n",
    "    elif 'PhD' in text: return \"PhD, JD, or other advanced degree\"\n",
    "    else: return text"
   ]
  },
  {
   "cell_type": "code",
   "execution_count": null,
   "metadata": {
    "collapsed": false
   },
   "outputs": [],
   "source": [
    "for pid, response in responses.iteritems():\n",
    "    response[5] = get_education(response[5], response[365])\n",
    "    del response[365]\n",
    "    responses[pid] = response\n",
    "    \n",
    "del questions[365]\n",
    "list_of_fields[5] = 'highest_education'"
   ]
  },
  {
   "cell_type": "markdown",
   "metadata": {},
   "source": [
    "Question 6: `income`\n",
    "\n",
    "1. Less than \\$50,000  \n",
    "2. \\$50,000 - \\$99,999  \n",
    "3. \\$100,000 - \\$149,999  \n",
    "4. \\$150,000 - \\$199,999  \n",
    "5. \\$200,000 - \\$249,999  \n",
    "6. $250,000 and over\n",
    "7. No response\n"
   ]
  },
  {
   "cell_type": "code",
   "execution_count": null,
   "metadata": {
    "collapsed": false
   },
   "outputs": [],
   "source": [
    "def get_income(text): \n",
    "    if text == '':\n",
    "        return 'No response'\n",
    "    elif 'Up to $49,999' in text:\n",
    "        return 'Less than $50,000'\n",
    "    else:\n",
    "        return text"
   ]
  },
  {
   "cell_type": "code",
   "execution_count": null,
   "metadata": {
    "collapsed": false
   },
   "outputs": [],
   "source": [
    "for pid, response in responses.iteritems():\n",
    "    response[6] = get_income(response[6])\n",
    "    responses[pid] = response\n",
    "\n",
    "list_of_fields[6] = 'income'"
   ]
  },
  {
   "cell_type": "markdown",
   "metadata": {},
   "source": [
    "Question 7: `zip_code`  \n",
    "Question 8: `city`  \n",
    "Question 9: `state`  "
   ]
  },
  {
   "cell_type": "code",
   "execution_count": null,
   "metadata": {
    "collapsed": false
   },
   "outputs": [],
   "source": [
    "from pyzipcode import ZipCodeDatabase\n",
    "zcdb = ZipCodeDatabase()\n",
    "\n",
    "def u2a(ustr):\n",
    "    return ustr.encode('ascii', 'ignore')\n",
    "\n",
    "def get_location(text1, text2):\n",
    "    try:\n",
    "        text = text1 if text1 else text2\n",
    "        text = text.strip()\n",
    "        if len(text) < 4: return ('','','')\n",
    "        elif len(text) == 4: text = '0' + text\n",
    "    except ValueError:\n",
    "        # print 'pz', text1, text2\n",
    "        return ('','','')\n",
    "    \n",
    "    try:\n",
    "        zipcode = zcdb[text]\n",
    "    except IndexError:\n",
    "        #print 'problem here', text\n",
    "        return ('','','')\n",
    "    return (u2a(zipcode.zip), u2a(zipcode.city), u2a(zipcode.state))"
   ]
  },
  {
   "cell_type": "code",
   "execution_count": null,
   "metadata": {
    "collapsed": false
   },
   "outputs": [],
   "source": [
    "for pid, response in responses.iteritems():\n",
    "    zc, city, state = get_location(response[7], response[191])\n",
    "    response[7] = zc\n",
    "    response.insert(8, city)\n",
    "    response.insert(9, state)\n",
    "    del response[193]\n",
    "    responses[pid] = response\n",
    "\n",
    "questions.insert(8, (108, 'What city is your organization from?'))\n",
    "questions.insert(9, (108, 'What state is your organization from?'))\n",
    "del questions[193]\n",
    "\n",
    "list_of_fields[7] = 'zip_code'\n",
    "list_of_fields[8] = 'city'\n",
    "list_of_fields[9] = 'state'"
   ]
  },
  {
   "cell_type": "markdown",
   "metadata": {},
   "source": [
    "Question 10: `organization_area`\n",
    "\n",
    "A list with one or more of the following as strings:\n",
    "\n",
    "1. Animal-related\"\n",
    "2. Arts, Culture & Humanities\n",
    "3. Civil Rights, Social Action & Advocacy\n",
    "4. Community Improvement & Capacity Building\n",
    "5. Community Neighborhood Development\n",
    "6. Crime & Legal\n",
    "7. Disorders, Diseases & Medical Disciplines\n",
    "8. Education\n",
    "9. Employment\n",
    "10. Environment\n",
    "11. Food, Agriculture & Nutrition\n",
    "12. Government & Public\n",
    "13. Health Care\n",
    "14. Housing & Shelter\n",
    "15. Human Services\n",
    "16. International Affairs, Development & Policy\n",
    "17. LGBTQIA\n",
    "18. Medical Research\n",
    "19. Mental Health & Crisis Intervention\n",
    "20. Philanthropy, Foundations & Grantmaking\n",
    "21. Public Safety, Disaster & Relief\n",
    "22. Recreation & Sports\n",
    "23. Science & Technology\n",
    "24. Social Science & Research\n",
    "25. Spiritual & Religious\n",
    "26. Youth Development\n"
   ]
  },
  {
   "cell_type": "code",
   "execution_count": null,
   "metadata": {
    "collapsed": false
   },
   "outputs": [],
   "source": [
    "def get_area(lines1, lines2):\n",
    "    conversion = {0: \"Animal-related\", 1: \"Arts, Culture & Humanities\", 2: \"Civil Rights, Social Action & Advocacy\", \n",
    "                  3: \"Community Improvement & Capacity Building\", 4: \"Community Neighborhood Development\", \n",
    "                  5: \"Crime & Legal\", 6: \"Disorders, Diseases & Medical Disciplines\", 7: \"Education\", \n",
    "                  8: \"Employment\", 9: \"Environment\", 10: \"Food, Agriculture & Nutrition\", 11: \"Government & Public\", \n",
    "                  12: \"Health Care\", 13: \"Housing & Shelter\", 14: \"Human Services\", \n",
    "                  15: \"International Affairs, Development & Policy\", 16: \"LGBTQIA\", 17: \"Medical Research\", \n",
    "                  18: \"Mental Health & Crisis Intervention\", 19: \"Philanthropy, Foundations & Grantmaking\", \n",
    "                  20: \"Public Safety, Disaster & Relief\", 21: \"Recreation & Sports\", 22: \"Science & Technology\", \n",
    "                  23: \"Social Science & Research\", 24: \"Spiritual & Religious\", 25: \"Youth Development\"} \n",
    "                  # Must be same order as in survey\n",
    "    \n",
    "    indices1 = [i for i,line in enumerate(lines1) if line == '1']\n",
    "    indices2 = [i for i,line in enumerate(lines2) if line == '1']\n",
    "    \n",
    "    areas = []\n",
    "    \n",
    "    indices = indices1 if len(indices1) > len(indices2) else indices2\n",
    "    if indices == 0: return []\n",
    "    for i in indices:\n",
    "        if i in conversion: areas.append(conversion[i])\n",
    "    \n",
    "    return areas"
   ]
  },
  {
   "cell_type": "code",
   "execution_count": null,
   "metadata": {
    "collapsed": false
   },
   "outputs": [],
   "source": [
    "for pid, response in responses.iteritems():\n",
    "    response[10] = get_area(response[10:36], response[193:219])\n",
    "    del response[11:36]\n",
    "    del response[(193-25):(219-25)]\n",
    "    responses[pid] = response\n",
    "    \n",
    "questions[10] = (8, 'What area(s) would you describe your organization as focusing on?')\n",
    "del questions[11:36]\n",
    "del questions[(193-25):(219-25)]\n",
    "\n",
    "list_of_fields[10] = 'organization_area'"
   ]
  },
  {
   "cell_type": "markdown",
   "metadata": {},
   "source": [
    "Question 11: `annual_op_budget`\n",
    "\n",
    "1. Less than \\$250,000\n",
    "2. \\$250,000 - \\$999,999\n",
    "3. \\$1,000,000 - \\$2,499,999\n",
    "4. \\$2,500,000 - \\$9,999,999\n",
    "5. \\$10,000,000 - \\$24,999,999\n",
    "6. \\$25,000,000 and over\n",
    "7. No response"
   ]
  },
  {
   "cell_type": "code",
   "execution_count": null,
   "metadata": {
    "collapsed": false
   },
   "outputs": [],
   "source": [
    "def get_budget(text1, text2):\n",
    "    text = text1 if text1 else text2\n",
    "    if not text:\n",
    "        return 'No response'\n",
    "    elif 'Up to $249,999' in text:\n",
    "        return 'Less than $250,000'\n",
    "    else:\n",
    "        return text"
   ]
  },
  {
   "cell_type": "code",
   "execution_count": null,
   "metadata": {
    "collapsed": false
   },
   "outputs": [],
   "source": [
    "for pid, response in responses.iteritems():\n",
    "    response[11] = get_budget(response[11], response[168])\n",
    "    del response[168]\n",
    "    responses[pid] = response\n",
    "    \n",
    "del questions[168]\n",
    "list_of_fields[11] = 'annual_op_budget'"
   ]
  },
  {
   "cell_type": "markdown",
   "metadata": {},
   "source": [
    "Question 12: `fulltime_staff_count`  \n",
    "Question 13: `parttime_staff_count`  \n",
    " \n",
    "\n",
    "1. No response\n",
    "2. 0\n",
    "3. 1-5\n",
    "4. 6-10\n",
    "5. 11-15\n",
    "6. 16-20\n",
    "7. 21-25\n",
    "8. 26-30\n",
    "9. 31-35\n",
    "10. 36-40\n",
    "11. 41-45\n",
    "12. 46-50\n",
    "13. 51+\n",
    "\n",
    "\n"
   ]
  },
  {
   "cell_type": "code",
   "execution_count": null,
   "metadata": {
    "collapsed": false
   },
   "outputs": [],
   "source": [
    "def get_staff_count(text):\n",
    "    if not text: return 'No response'\n",
    "    if text == '10-Jun': return '6-10'\n",
    "    if text == '15-Nov': return '11-15'\n",
    "    if text == '5-Jan': return '1-5'\n",
    "    else: return text"
   ]
  },
  {
   "cell_type": "code",
   "execution_count": null,
   "metadata": {
    "collapsed": false
   },
   "outputs": [],
   "source": [
    "for pid, response in responses.iteritems():\n",
    "    response[12] = get_staff_count(response[12])\n",
    "    response[13] = get_staff_count(response[13])\n",
    "    responses[pid] = response\n",
    "    \n",
    "questions[12] = (10, 'How many full-time paid staff does your organization have?')\n",
    "questions[13] = (10, 'How many part-time paid staff does your organization have?')\n",
    "\n",
    "list_of_fields[12] = 'fulltime_staff_count'\n",
    "list_of_fields[13] = 'parttime_staff_count'"
   ]
  },
  {
   "cell_type": "markdown",
   "metadata": {},
   "source": [
    "Question 14: `volunteer_count` \n",
    "\n",
    "1. No response\n",
    "2. 0\n",
    "3. 1-10\n",
    "4. 11-20\n",
    "5. 21-30\n",
    "6. 31-40\n",
    "7. 41-50\n",
    "8. 51-100\n",
    "9. 101-250\n",
    "10. 251-500\n",
    "11. 501+"
   ]
  },
  {
   "cell_type": "code",
   "execution_count": null,
   "metadata": {
    "collapsed": false
   },
   "outputs": [],
   "source": [
    "def get_volunteer_count(text):\n",
    "    if not text: return 'No response'\n",
    "    if text == '10-Jan': return '1-10'\n",
    "    if text == '100-250': return '101-250'\n",
    "    if text == '20-30': return '21-30'\n",
    "    if text == '20-Oct': return '11-21'\n",
    "    if text == '250-500': return '251-500'\n",
    "    if text == '30-40': return '31-40'\n",
    "    if text == '40-50': return '41-51'\n",
    "    if text == '50-100': return '51-100'\n",
    "    else: return text"
   ]
  },
  {
   "cell_type": "code",
   "execution_count": null,
   "metadata": {
    "collapsed": false
   },
   "outputs": [],
   "source": [
    "for pid, response in responses.iteritems():\n",
    "    response[14] = get_volunteer_count(response[12])\n",
    "    responses[pid] = response\n",
    "    \n",
    "list_of_fields[14] = 'volunteer_count'"
   ]
  },
  {
   "cell_type": "markdown",
   "metadata": {},
   "source": [
    "Question 15: `year_founded`\n",
    "\n",
    "or 'No response'"
   ]
  },
  {
   "cell_type": "code",
   "execution_count": null,
   "metadata": {
    "collapsed": false
   },
   "outputs": [],
   "source": [
    "def get_year(text1, text2):\n",
    "    text = text1 if len(text1) > len(text2) else text2\n",
    "    if not text or text == '0': return \"No response\"\n",
    "    if text == '1074': return '1974'\n",
    "    if text == '994': return '1994'\n",
    "    else: return text"
   ]
  },
  {
   "cell_type": "code",
   "execution_count": null,
   "metadata": {
    "collapsed": false
   },
   "outputs": [],
   "source": [
    "for pid, response in responses.iteritems():\n",
    "    response[15] = get_year(response[15], response[168])\n",
    "    del response[168]\n",
    "    responses[pid] = response\n",
    "    \n",
    "del questions[168]\n",
    "\n",
    "list_of_fields[15] = 'year_founded'"
   ]
  },
  {
   "cell_type": "markdown",
   "metadata": {},
   "source": [
    "Question 16: `cash_reserves`  \n",
    "\n",
    "1. No response\n",
    "2. None\n",
    "3. One month or less\n",
    "4. Two to three months\n",
    "5. Four to six months\n",
    "6. Seven to nine months\n",
    "7. Ten months to a year\n",
    "8. Over a year"
   ]
  },
  {
   "cell_type": "code",
   "execution_count": null,
   "metadata": {
    "collapsed": false
   },
   "outputs": [],
   "source": [
    "def get_cash_reserves(text):\n",
    "    if not text: return \"No response\"\n",
    "    else: return text"
   ]
  },
  {
   "cell_type": "code",
   "execution_count": null,
   "metadata": {
    "collapsed": false
   },
   "outputs": [],
   "source": [
    "for pid, response in responses.iteritems():\n",
    "    response[16] = get_cash_reserves(response[16])\n",
    "    responses[pid] = response\n",
    "    \n",
    "list_of_fields[16] = 'cash_reserves'"
   ]
  },
  {
   "cell_type": "markdown",
   "metadata": {},
   "source": [
    "Question 17: `num_years_in_curr_pos`  \n",
    "(with board or in current management position)\n",
    "\n",
    "1. Less than 1 Year\n",
    "2. 1-2 Years\n",
    "3. 3-5 Years\n",
    "4. 6-9 Years\n",
    "5. 10-19 Years\n",
    "6. 20+ Years"
   ]
  },
  {
   "cell_type": "code",
   "execution_count": null,
   "metadata": {
    "collapsed": false
   },
   "outputs": [],
   "source": [
    "def get_num_years(text1, text2):\n",
    "    text = text1 if len(text1) > len(text2) else text2\n",
    "    if not text: return \"No response\"\n",
    "    if text.startswith('1 '): return '1-2 Years'\n",
    "    if text.startswith('10'): return '10-19 years'\n",
    "    if text.startswith('3'): return '3-5 years'\n",
    "    if text.startswith('6 '): return '6-9 years'\n",
    "    else: return text"
   ]
  },
  {
   "cell_type": "code",
   "execution_count": null,
   "metadata": {
    "collapsed": false
   },
   "outputs": [],
   "source": [
    "for pid, response in responses.iteritems():\n",
    "    response[17] = get_num_years(response[17], response[269])\n",
    "    responses[pid] = response\n",
    "    del response[269]\n",
    "\n",
    "questions[17] = (14, 'How many years have you been in your current position (in board or management)?')\n",
    "del questions[269]\n",
    "\n",
    "list_of_fields[17] = 'num_years_in_curr_pos'"
   ]
  },
  {
   "cell_type": "markdown",
   "metadata": {},
   "source": [
    "Question 18: `years_in_nonprofit`  \n",
    "\n",
    "1. No response\n",
    "2. [Number between 1 and 50]\n",
    "3. '50+'"
   ]
  },
  {
   "cell_type": "code",
   "execution_count": null,
   "metadata": {
    "collapsed": false
   },
   "outputs": [],
   "source": [
    "def get_num_years(text):\n",
    "    if not text: return \"No response\"\n",
    "    elif text != '50+' and text != 'No response': return int(text)\n",
    "    return text"
   ]
  },
  {
   "cell_type": "code",
   "execution_count": null,
   "metadata": {
    "collapsed": false
   },
   "outputs": [],
   "source": [
    "for pid, response in responses.iteritems():\n",
    "    response[18] = get_num_years(response[18])\n",
    "    responses[pid] = response\n",
    "    \n",
    "list_of_fields[18] = 'years_in_nonprofit'"
   ]
  },
  {
   "cell_type": "markdown",
   "metadata": {},
   "source": [
    "Question 19: `past_sectors_worked`  \n",
    "\n",
    "1. Public\n",
    "2. Private\n",
    "3. Non-profit\n",
    "4. Other\n",
    "5. No response"
   ]
  },
  {
   "cell_type": "code",
   "execution_count": null,
   "metadata": {
    "collapsed": false
   },
   "outputs": [],
   "source": [
    "def get_past_sectors(lines):\n",
    "    sectors = []\n",
    "    if lines[0] == '-': return [\"No response\"]\n",
    "    if lines[0] == '1': sectors.append(\"Public\")\n",
    "    if lines[1] == '1': sectors.append(\"Private\")\n",
    "    if lines[2] == '1':\n",
    "        text = lines[3].lower()\n",
    "        if '501' in text or 'nonprofit' in text or 'non profit' in text or 'non-profit' in text \\\n",
    "            or 'not for profit' in text or 'not-for-profit' in text or 'ymca' in text or 'volunteer' in text:\n",
    "            sectors.append(\"Non-profit\")\n",
    "        elif 'consultant' in text:\n",
    "            sectors.append(\"Private\")\n",
    "        elif 'public' in text or 'cdc' in text:\n",
    "            sectors.append(\"Public\")\n",
    "        else:\n",
    "            sectors.append(\"Other\")\n",
    "        \n",
    "    return list(set(sectors))"
   ]
  },
  {
   "cell_type": "code",
   "execution_count": null,
   "metadata": {
    "collapsed": false
   },
   "outputs": [],
   "source": [
    "for pid, response in responses.iteritems():\n",
    "    response[19] = get_past_sectors(response[19:23])\n",
    "    del response[20:23]\n",
    "    responses[pid] = response\n",
    "    \n",
    "questions[19] = (16, 'What sectors have you held a management position in the last 10 years?')\n",
    "del questions[20:23]\n",
    "list_of_fields[19] = 'past_sectors_worked'"
   ]
  },
  {
   "cell_type": "markdown",
   "metadata": {},
   "source": [
    "Question 20: `previous_positions`\n",
    "\n",
    "1. No response\n",
    "2. Board member\n",
    "3. Paid staff member\n",
    "4. Volunteer"
   ]
  },
  {
   "cell_type": "code",
   "execution_count": null,
   "metadata": {
    "collapsed": false
   },
   "outputs": [],
   "source": [
    "def get_prev_positions(lines):\n",
    "    positions = []\n",
    "    if lines[0] == '-': return [\"No response\"]\n",
    "    if lines[0] == '1': positions.append(\"Board member\")\n",
    "    if lines[1] == '1': positions.append(\"Paid staff member\")\n",
    "    if lines[2] == '1': positions.append(\"Volunteer\")\n",
    "        \n",
    "    return positions"
   ]
  },
  {
   "cell_type": "code",
   "execution_count": null,
   "metadata": {
    "collapsed": false
   },
   "outputs": [],
   "source": [
    "for pid, response in responses.iteritems():\n",
    "    response[20] = get_prev_positions(response[20:23])\n",
    "    del response[21:23]\n",
    "    responses[pid] = response\n",
    "    \n",
    "questions[20] = (17, 'What positions have you held previous to becoming a leader in the organization?')\n",
    "del questions[21:23]\n",
    "list_of_fields[20] = 'previous_positions'"
   ]
  },
  {
   "cell_type": "markdown",
   "metadata": {},
   "source": [
    "Question 21: `predecessor`\n",
    "\n",
    "1. No response\n",
    "2. Do not know\n",
    "3. Forced resignation / discharged\n",
    "4. I have no predecessor\n",
    "5. Personal reasons (illness, death, family, etc.)\n",
    "6. Voluntarily (dissatisfied with the organization)\n",
    "7. Voluntarily (not due to dissatisfaction)"
   ]
  },
  {
   "cell_type": "code",
   "execution_count": null,
   "metadata": {
    "collapsed": false
   },
   "outputs": [],
   "source": [
    "def get_predecessor(text):\n",
    "    if not text: return 'No response'\n",
    "    else: return text"
   ]
  },
  {
   "cell_type": "code",
   "execution_count": null,
   "metadata": {
    "collapsed": false
   },
   "outputs": [],
   "source": [
    "for pid, response in responses.iteritems():\n",
    "    response[21] = get_predecessor(response[21])\n",
    "    responses[pid] = response\n",
    "    \n",
    "questions[21] = (18, 'What best describes how your predecessor left the position?')\n",
    "list_of_fields[21] = 'predecessor'"
   ]
  },
  {
   "cell_type": "markdown",
   "metadata": {},
   "source": [
    "Question 22: `situation_inherited`\n",
    "\n",
    "1. No response\n",
    "2. [string freeform]"
   ]
  },
  {
   "cell_type": "code",
   "execution_count": null,
   "metadata": {
    "collapsed": false
   },
   "outputs": [],
   "source": [
    "def get_inherited(text):\n",
    "    if not text: return 'No response'\n",
    "    else: return text"
   ]
  },
  {
   "cell_type": "code",
   "execution_count": null,
   "metadata": {
    "collapsed": false
   },
   "outputs": [],
   "source": [
    "for pid, response in responses.iteritems():\n",
    "    response[22] = get_inherited(response[22])\n",
    "    responses[pid] = response\n",
    "    \n",
    "questions[22] = (19, 'Please describe the situation you inherited when you assumed your leadership. (Optional)')\n",
    "list_of_fields[22] = 'situation_inherited'"
   ]
  },
  {
   "cell_type": "markdown",
   "metadata": {},
   "source": [
    "Question 23: `highest_priority`\n",
    "\n",
    "1. No response\n",
    "2. [string freeform]"
   ]
  },
  {
   "cell_type": "code",
   "execution_count": null,
   "metadata": {
    "collapsed": false
   },
   "outputs": [],
   "source": [
    "def get_priority(text):\n",
    "    if not text: return 'No response'\n",
    "    else: return text"
   ]
  },
  {
   "cell_type": "code",
   "execution_count": null,
   "metadata": {
    "collapsed": false
   },
   "outputs": [],
   "source": [
    "for pid, response in responses.iteritems():\n",
    "    response[23] = get_priority(response[23])\n",
    "    responses[pid] = response\n",
    "    \n",
    "questions[23] = (20, 'What was your highest priority when you assumed leadership? (Optional)')\n",
    "list_of_fields[23] = 'highest_priority'"
   ]
  },
  {
   "cell_type": "markdown",
   "metadata": {},
   "source": [
    "Question 24: `time_spent_on_job`\n",
    "\n",
    "1. 0-20 hours\n",
    "2. 20-30 hours\n",
    "3. 30-40 hours\n",
    "4. 40-50 hours\n",
    "5. 50-60 hours\n",
    "6. 60-70 hours\n",
    "7. 70+ hours\n",
    "8. 0-2 hours\n",
    "9. 3-5 hours\n",
    "10. 5-8 hours\n",
    "11. 8-10 hours\n",
    "12. 10+ hours"
   ]
  },
  {
   "cell_type": "code",
   "execution_count": null,
   "metadata": {
    "collapsed": false
   },
   "outputs": [],
   "source": [
    "def get_time_spent(text1, text2):\n",
    "    text = text1 if len(text1) > len(text2) else text2\n",
    "    if not text: return 'No response'\n",
    "    elif text.startswith('10+'): return '10+ hours'\n",
    "    elif '10-Aug' in text: return '8-10 hours'\n",
    "    elif '8-May' in text: return '5-8 hours'\n",
    "    elif '5-Mar' in text: return '3-5 hours'\n",
    "    elif 'Under 2' in text: return '0-2 hours'\n",
    "    elif 'Under 20' in text: return '0-20 hours'\n",
    "    elif text.startswith('20'): return '20-30 hours'\n",
    "    elif text.startswith('30'): return '30-40 hours'\n",
    "    elif text.startswith('40'): return '40-50 hours'\n",
    "    elif text.startswith('50'): return '50-60 hours'\n",
    "    elif text.startswith('60'): return '60-70 hours'\n",
    "    elif text.startswith('70'): return '70+ hours'\n",
    "    else: return 'No response'"
   ]
  },
  {
   "cell_type": "code",
   "execution_count": null,
   "metadata": {
    "collapsed": false
   },
   "outputs": [],
   "source": [
    "print get_qindices(\"hours per week\", questions)\n",
    "print uniq_ans(24, responses)[1]\n",
    "uniq_ans(275, responses)[1]"
   ]
  },
  {
   "cell_type": "code",
   "execution_count": null,
   "metadata": {
    "collapsed": false
   },
   "outputs": [],
   "source": [
    "for pid, response in responses.iteritems():\n",
    "    response[24] = get_time_spent(response[24],response[275])\n",
    "    del response[275]\n",
    "    responses[pid] = response\n",
    "\n",
    "del questions[275]\n",
    "questions[24] = (21, 'On average, how many hours per week do you work?')\n",
    "list_of_fields[24] = 'time_spent_on_job'"
   ]
  },
  {
   "cell_type": "markdown",
   "metadata": {},
   "source": [
    "Question 25: `feel_about_job`\n",
    "\n",
    "1. I  am very unhappy in my job\n",
    "2. I am very happy in my job\n",
    "3. I have more bad days than good days',\n",
    "4. I have more good days than bad days',\n",
    "5. My experience is neutral/evenly mixed between bad and good"
   ]
  },
  {
   "cell_type": "code",
   "execution_count": null,
   "metadata": {
    "collapsed": false
   },
   "outputs": [],
   "source": [
    "def get_feels(text):\n",
    "    if not text: return 'No response'\n",
    "    else: return text"
   ]
  },
  {
   "cell_type": "code",
   "execution_count": null,
   "metadata": {
    "collapsed": false
   },
   "outputs": [],
   "source": [
    "for pid, response in responses.iteritems():\n",
    "    response[25] = get_feels(response[25])\n",
    "    responses[pid] = response\n",
    "    \n",
    "list_of_fields[25] = 'feel_about_job'"
   ]
  },
  {
   "cell_type": "markdown",
   "metadata": {},
   "source": [
    "Question 26: `feel_about_job_freeform`\n",
    "\n",
    "1. No response\n",
    "2. [string text]"
   ]
  },
  {
   "cell_type": "code",
   "execution_count": null,
   "metadata": {
    "collapsed": false
   },
   "outputs": [],
   "source": [
    "def get_feels_freeform(text):\n",
    "    if not text: return 'No response'\n",
    "    else: return text"
   ]
  },
  {
   "cell_type": "code",
   "execution_count": null,
   "metadata": {
    "collapsed": false
   },
   "outputs": [],
   "source": [
    "for pid, response in responses.iteritems():\n",
    "    response[26] = get_feels_freeform(response[26])\n",
    "    responses[pid] = response\n",
    "    \n",
    "questions[26] = (22, 'Describe more about how you feel about your job. (Optional)')\n",
    "list_of_fields[26] = 'feel_about_job_freeform'"
   ]
  },
  {
   "cell_type": "code",
   "execution_count": null,
   "metadata": {
    "collapsed": false
   },
   "outputs": [],
   "source": [
    "print get_qindices(\"feel about\", questions)\n",
    "print questions[26]\n",
    "uniq_ans(26, responses)[1]\n"
   ]
  },
  {
   "cell_type": "code",
   "execution_count": null,
   "metadata": {
    "collapsed": false
   },
   "outputs": [],
   "source": []
  },
  {
   "cell_type": "code",
   "execution_count": null,
   "metadata": {
    "collapsed": false
   },
   "outputs": [],
   "source": [
    "import json\n",
    "\n",
    "def create_persons_list(responses, lst_fields):\n",
    "    persons = []\n",
    "    for pid, response in responses.iteritems():\n",
    "        person_dict = {}\n",
    "        person_dict['pid'] = pid\n",
    "        for i,field in lst_fields.iteritems():\n",
    "            person_dict[field] = response[i]\n",
    "        persons.append(person_dict)\n",
    "    return persons\n",
    "        \n",
    "def create_questions_dict(questions, lst_fields):\n",
    "    questions_dict = {}\n",
    "    for i, field in lst_fields.iteritems():\n",
    "        qid, question = questions[i]\n",
    "        multiple, options = uniq_ans(i, responses)\n",
    "        options = list(options)\n",
    "        if qid in question_topics:\n",
    "            topic = question_topics[qid][0]\n",
    "            category = question_topics[qid][1]\n",
    "        questions_dict[field] = [qid, question, topic, category, multiple, options]\n",
    "    return questions_dict\n",
    "\n",
    "def write_as_json(persons_list, questions_dict, persons_filepath, questions_filepath):\n",
    "    persons_json = json.dumps(persons_list)\n",
    "    questions_json = json.dumps(questions_dict)\n",
    "    with open(persons_filepath, 'w') as f:\n",
    "        f.write(persons_json)\n",
    "    with open(questions_filepath, 'w') as f:\n",
    "        f.write(questions_json)\n",
    "    print 'Wrote to', persons_filepath,'!'\n",
    "    print 'Wrote to', questions_filepath,'!'"
   ]
  },
  {
   "cell_type": "code",
   "execution_count": null,
   "metadata": {
    "collapsed": false
   },
   "outputs": [],
   "source": [
    "# final_persons_list = create_persons_list(responses, list_of_fields)\n",
    "# final_questions_dict = create_questions_dict(questions, list_of_fields)\n",
    "# persons_filepath = '/home/skoppula/mit/codeforgood/app/data/persons.json'\n",
    "# questions_filepath = '/home/skoppula/mit/codeforgood/app/data/questions.json'\n",
    "# write_as_json(final_persons_list, final_questions_dict, persons_filepath, questions_filepath)"
   ]
  },
  {
   "cell_type": "code",
   "execution_count": null,
   "metadata": {
    "collapsed": false
   },
   "outputs": [],
   "source": [
    "\n"
   ]
  }
 ],
 "metadata": {
  "kernelspec": {
   "display_name": "Python 2",
   "language": "python",
   "name": "python2"
  },
  "language_info": {
   "codemirror_mode": {
    "name": "ipython",
    "version": 2
   },
   "file_extension": ".py",
   "mimetype": "text/x-python",
   "name": "python",
   "nbconvert_exporter": "python",
   "pygments_lexer": "ipython2",
   "version": "2.7.5"
  }
 },
 "nbformat": 4,
 "nbformat_minor": 0
}
